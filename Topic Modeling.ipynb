{
 "cells": [
  {
   "cell_type": "markdown",
   "id": "984c4dc2",
   "metadata": {},
   "source": [
    "Bryan Flores <br>\n",
    "February 12, 2024"
   ]
  },
  {
   "attachments": {},
   "cell_type": "markdown",
   "id": "bce2bb89",
   "metadata": {},
   "source": [
    "# ADS 509 Assignment 5.1: Topic Modeling\n",
    "\n",
    "This notebook holds Assignment 5.1 for Module 5 in ADS 509, Applied Text Mining. Work through this notebook, writing code and answering questions where required. \n",
    "\n",
    "In this assignment you will work with a categorical corpus that accompanies `nltk`. You will build the three types of topic models described in Chapter 8 of _Blueprints for Text Analytics using Python_: NMF, LSA, and LDA. You will compare these models to the true categories. \n"
   ]
  },
  {
   "attachments": {},
   "cell_type": "markdown",
   "id": "d87e2c06",
   "metadata": {},
   "source": [
    "## General Assignment Instructions\n",
    "\n",
    "These instructions are included in every assignment, to remind you of the coding standards for the class. Feel free to delete this cell after reading it. \n",
    "\n",
    "One sign of mature code is conforming to a style guide. We recommend the [Google Python Style Guide](https://google.github.io/styleguide/pyguide.html). If you use a different style guide, please include a cell with a link. \n",
    "\n",
    "Your code should be relatively easy-to-read, sensibly commented, and clean. Writing code is a messy process, so please be sure to edit your final submission. Remove any cells that are not needed or parts of cells that contain unnecessary code. Remove inessential `import` statements and make sure that all such statements are moved into the designated cell. \n",
    "\n",
    "Make use of non-code cells for written commentary. These cells should be grammatical and clearly written. In some of these cells you will have questions to answer. The questions will be marked by a \"Q:\" and will have a corresponding \"A:\" spot for you. *Make sure to answer every question marked with a `Q:` for full credit.* \n"
   ]
  },
  {
   "cell_type": "code",
   "execution_count": 1,
   "id": "a85bce08",
   "metadata": {},
   "outputs": [],
   "source": [
    "# These libraries may be useful to you\n",
    "\n",
    "#!pip install pyLDAvis==3.4.1 --user  #You need to restart the Kernel after installation.\n",
    "# You also need a Python version => 3.9.0\n",
    "from nltk.corpus import brown\n",
    "\n",
    "import numpy as np\n",
    "import pandas as pd\n",
    "from tqdm.auto import tqdm\n",
    "\n",
    "import pyLDAvis\n",
    "import pyLDAvis.lda_model\n",
    "import pyLDAvis.gensim_models\n",
    "\n",
    "import spacy\n",
    "from sklearn.feature_extraction.text import TfidfVectorizer, CountVectorizer\n",
    "from sklearn.decomposition import NMF, TruncatedSVD, LatentDirichletAllocation\n",
    "\n",
    "from spacy.lang.en.stop_words import STOP_WORDS as stopwords\n",
    "import en_core_web_sm\n",
    "\n",
    "from collections import Counter, defaultdict\n",
    "\n",
    "nlp = en_core_web_sm.load()"
   ]
  },
  {
   "cell_type": "code",
   "execution_count": 2,
   "id": "a218df60",
   "metadata": {},
   "outputs": [
    {
     "name": "stderr",
     "output_type": "stream",
     "text": [
      "[nltk_data] Downloading package brown to\n",
      "[nltk_data]     C:\\Users\\Bryan\\AppData\\Roaming\\nltk_data...\n",
      "[nltk_data]   Package brown is already up-to-date!\n"
     ]
    },
    {
     "data": {
      "text/plain": [
       "True"
      ]
     },
     "execution_count": 2,
     "metadata": {},
     "output_type": "execute_result"
    }
   ],
   "source": [
    "# add any additional libaries you need here\n",
    "import nltk\n",
    "nltk.download('brown')"
   ]
  },
  {
   "cell_type": "code",
   "execution_count": 3,
   "id": "494de237",
   "metadata": {},
   "outputs": [],
   "source": [
    "# This function comes from the BTAP repo.\n",
    "\n",
    "def display_topics(model, features, no_top_words=5):\n",
    "    for topic, words in enumerate(model.components_):\n",
    "        total = words.sum()\n",
    "        largest = words.argsort()[::-1] # invert sort order\n",
    "        print(\"\\nTopic %02d\" % topic)\n",
    "        for i in range(0, no_top_words):\n",
    "            print(\"  %s (%2.2f)\" % (features[largest[i]], abs(words[largest[i]]*100.0/total)))"
   ]
  },
  {
   "attachments": {},
   "cell_type": "markdown",
   "id": "a30a901c",
   "metadata": {},
   "source": [
    "## Getting to Know the Brown Corpus\n",
    "\n",
    "Let's spend a bit of time getting to know what's in the Brown corpus, our NLTK example of an \"overlapping\" corpus."
   ]
  },
  {
   "cell_type": "code",
   "execution_count": 4,
   "id": "457c59ed",
   "metadata": {},
   "outputs": [
    {
     "name": "stdout",
     "output_type": "stream",
     "text": [
      "For adventure we have 29 articles.\n",
      "For belles_lettres we have 75 articles.\n",
      "For editorial we have 27 articles.\n",
      "For fiction we have 29 articles.\n",
      "For government we have 30 articles.\n",
      "For hobbies we have 36 articles.\n",
      "For humor we have 9 articles.\n",
      "For learned we have 80 articles.\n",
      "For lore we have 48 articles.\n",
      "For mystery we have 24 articles.\n",
      "For news we have 44 articles.\n",
      "For religion we have 17 articles.\n",
      "For reviews we have 17 articles.\n",
      "For romance we have 29 articles.\n",
      "For science_fiction we have 6 articles.\n"
     ]
    }
   ],
   "source": [
    "# categories of articles in Brown corpus\n",
    "for category in brown.categories() :\n",
    "    print(f\"For {category} we have {len(brown.fileids(categories=category))} articles.\")"
   ]
  },
  {
   "attachments": {},
   "cell_type": "markdown",
   "id": "23fb133c",
   "metadata": {},
   "source": [
    "Let's create a dataframe of the articles in of hobbies, editorial, government, news, and romance."
   ]
  },
  {
   "cell_type": "code",
   "execution_count": 5,
   "id": "18f50b9d",
   "metadata": {},
   "outputs": [
    {
     "data": {
      "text/plain": [
       "(166, 3)"
      ]
     },
     "execution_count": 5,
     "metadata": {},
     "output_type": "execute_result"
    }
   ],
   "source": [
    "categories = ['editorial','government','news','romance','hobbies'] \n",
    "\n",
    "category_list = []\n",
    "file_ids = []\n",
    "texts = []\n",
    "\n",
    "for category in categories : \n",
    "    for file_id in brown.fileids(categories=category) :\n",
    "        \n",
    "        # build some lists for a dataframe\n",
    "        category_list.append(category)\n",
    "        file_ids.append(file_id)\n",
    "        \n",
    "        text = brown.words(fileids=file_id)\n",
    "        texts.append(\" \".join(text))\n",
    "\n",
    "        \n",
    "        \n",
    "df = pd.DataFrame()\n",
    "df['category'] = category_list\n",
    "df['id'] = file_ids\n",
    "df['text'] = texts \n",
    "\n",
    "df.shape"
   ]
  },
  {
   "cell_type": "code",
   "execution_count": 6,
   "id": "586f47de",
   "metadata": {},
   "outputs": [],
   "source": [
    "# Let's add some helpful columns on the df\n",
    "df['char_len'] = df['text'].apply(len)\n",
    "df['word_len'] = df['text'].apply(lambda x: len(x.split()))\n"
   ]
  },
  {
   "cell_type": "code",
   "execution_count": 7,
   "id": "2128fd2d",
   "metadata": {},
   "outputs": [
    {
     "data": {
      "text/plain": [
       "<Axes: xlabel='category'>"
      ]
     },
     "execution_count": 7,
     "metadata": {},
     "output_type": "execute_result"
    },
    {
     "data": {
      "image/png": "[encoded data removed]",
      "text/plain": [
       "<Figure size 1000x600 with 1 Axes>"
      ]
     },
     "metadata": {},
     "output_type": "display_data"
    }
   ],
   "source": [
    "%matplotlib inline\n",
    "df.groupby('category').agg({'word_len': 'mean'}).plot.bar(figsize=(10,6))"
   ]
  },
  {
   "attachments": {},
   "cell_type": "markdown",
   "id": "554ffeb5",
   "metadata": {},
   "source": [
    "Now do our TF-IDF and Count vectorizations."
   ]
  },
  {
   "cell_type": "code",
   "execution_count": 8,
   "id": "21a7d247",
   "metadata": {},
   "outputs": [
    {
     "name": "stderr",
     "output_type": "stream",
     "text": [
      "c:\\Users\\Bryan\\anaconda3\\envs\\ads_venv\\lib\\site-packages\\sklearn\\feature_extraction\\text.py:408: UserWarning: Your stop_words may be inconsistent with your preprocessing. Tokenizing the stop words generated tokens ['ll', 've'] not in stop_words.\n",
      "  warnings.warn(\n"
     ]
    },
    {
     "data": {
      "text/plain": [
       "(166, 4941)"
      ]
     },
     "execution_count": 8,
     "metadata": {},
     "output_type": "execute_result"
    }
   ],
   "source": [
    "count_text_vectorizer = CountVectorizer(stop_words=list(stopwords), min_df=5, max_df=0.7)\n",
    "count_text_vectors = count_text_vectorizer.fit_transform(df[\"text\"])\n",
    "count_text_vectors.shape"
   ]
  },
  {
   "cell_type": "code",
   "execution_count": 9,
   "id": "875deba9",
   "metadata": {},
   "outputs": [
    {
     "data": {
      "text/plain": [
       "(166, 4941)"
      ]
     },
     "execution_count": 9,
     "metadata": {},
     "output_type": "execute_result"
    }
   ],
   "source": [
    "tfidf_text_vectorizer = TfidfVectorizer(stop_words=list(stopwords), min_df=5, max_df=0.7)\n",
    "tfidf_text_vectors = tfidf_text_vectorizer.fit_transform(df['text'])\n",
    "tfidf_text_vectors.shape"
   ]
  },
  {
   "attachments": {},
   "cell_type": "markdown",
   "id": "a1062b21",
   "metadata": {},
   "source": [
    "Q: What do the two data frames `count_text_vectors` and `tfidf_text_vectors` hold? \n",
    "\n",
    "A: `count_text_vectors` contains a matrix of token counts transformed from text, while `tfidf_text_vectors` contains a matrix of tfidf scores. "
   ]
  },
  {
   "attachments": {},
   "cell_type": "markdown",
   "id": "f77c3f94",
   "metadata": {},
   "source": [
    "## Fitting a Non-Negative Matrix Factorization Model\n",
    "\n",
    "In this section the code to fit a five-topic NMF model has already been written. This code comes directly from the [BTAP repo](https://github.com/blueprints-for-text-analytics-python/blueprints-text), which will help you tremendously in the coming sections. "
   ]
  },
  {
   "cell_type": "code",
   "execution_count": 10,
   "id": "d28745a3",
   "metadata": {},
   "outputs": [],
   "source": [
    "nmf_text_model = NMF(n_components=5, random_state=314)\n",
    "W_text_matrix = nmf_text_model.fit_transform(tfidf_text_vectors)\n",
    "H_text_matrix = nmf_text_model.components_"
   ]
  },
  {
   "cell_type": "code",
   "execution_count": 11,
   "id": "a67185e7",
   "metadata": {},
   "outputs": [
    {
     "name": "stdout",
     "output_type": "stream",
     "text": [
      "\n",
      "Topic 00\n",
      "  mr (0.51)\n",
      "  president (0.45)\n",
      "  kennedy (0.43)\n",
      "  united (0.42)\n",
      "  khrushchev (0.40)\n",
      "\n",
      "Topic 01\n",
      "  said (0.88)\n",
      "  didn (0.46)\n",
      "  ll (0.45)\n",
      "  thought (0.42)\n",
      "  man (0.37)\n",
      "\n",
      "Topic 02\n",
      "  state (0.39)\n",
      "  development (0.36)\n",
      "  tax (0.33)\n",
      "  sales (0.30)\n",
      "  program (0.25)\n",
      "\n",
      "Topic 03\n",
      "  mrs (2.61)\n",
      "  mr (0.78)\n",
      "  said (0.63)\n",
      "  miss (0.52)\n",
      "  car (0.51)\n",
      "\n",
      "Topic 04\n",
      "  game (1.02)\n",
      "  league (0.74)\n",
      "  ball (0.72)\n",
      "  baseball (0.71)\n",
      "  team (0.66)\n"
     ]
    }
   ],
   "source": [
    "display_topics(nmf_text_model, tfidf_text_vectorizer.get_feature_names_out())"
   ]
  },
  {
   "attachments": {},
   "cell_type": "markdown",
   "id": "fee51e9b",
   "metadata": {},
   "source": [
    "Now some work for you to do. Compare the NMF categorization to the original categories from the Brown Corpus.\n",
    "\n",
    "We are interested in the extent to which our NMF categorization agrees or disagrees with the original categories in the corpus. For each topic in your NMF model, tally the Brown categories and interpret the results. \n"
   ]
  },
  {
   "cell_type": "code",
   "execution_count": 12,
   "id": "7c8c8eb0",
   "metadata": {},
   "outputs": [],
   "source": [
    "def get_topic_categories(matrix: np.ndarray, df: pd.DataFrame) -> dict:\n",
    "    \"\"\"\n",
    "    :param matrix: np.ndarray, contains topic info\n",
    "    :param df: pd.DataFrame, contains category info\n",
    "    :return: dictionary of topics and corresponding categories.\n",
    "    \"\"\"\n",
    "\n",
    "    topic_categories = defaultdict(list)\n",
    "\n",
    "    for idx, row in enumerate(matrix): \n",
    "        topic = np.where(row == np.amax(row))[0]\n",
    "        category = df[\"category\"].iloc[idx]\n",
    "        topic_categories[topic[0]].append(category)\n",
    "\n",
    "    return topic_categories\n",
    "\n",
    "def report_topic_categories(dict: dict):\n",
    "    \"\"\"\n",
    "    Reports top 5 most common topics, categories, and counts\n",
    "    :param dict: dict, topic category dictionary\n",
    "    \"\"\"\n",
    "\n",
    "    for topic, categories in dict.items():\n",
    "        print(f\"Topic {topic} has {len(categories)} corresponding documents.\")\n",
    "        print(Counter(categories).most_common(5))"
   ]
  },
  {
   "cell_type": "code",
   "execution_count": 13,
   "id": "e875dd3b",
   "metadata": {},
   "outputs": [
    {
     "name": "stdout",
     "output_type": "stream",
     "text": [
      "Topic 2 has 65 corresponding documents.\n",
      "[('government', 26), ('hobbies', 26), ('news', 11), ('editorial', 2)]\n",
      "Topic 0 has 32 corresponding documents.\n",
      "[('editorial', 20), ('news', 8), ('government', 4)]\n",
      "Topic 1 has 41 corresponding documents.\n",
      "[('romance', 29), ('hobbies', 8), ('editorial', 4)]\n",
      "Topic 4 has 10 corresponding documents.\n",
      "[('news', 8), ('editorial', 1), ('hobbies', 1)]\n",
      "Topic 3 has 18 corresponding documents.\n",
      "[('news', 17), ('hobbies', 1)]\n"
     ]
    }
   ],
   "source": [
    "nmf_topic_cats = get_topic_categories(matrix=W_text_matrix, df=df)\n",
    "\n",
    "report_topic_categories(dict=nmf_topic_cats)"
   ]
  },
  {
   "attachments": {},
   "cell_type": "markdown",
   "id": "f8d4e2bc",
   "metadata": {},
   "source": [
    "Q: How does your five-topic NMF model compare to the original Brown categories? \n",
    "\n",
    "A: There are certainly discrepancies between the NMF topics as we see various combinations of government, hobbies, news, and editorial. Additionally, most of these combinations are unrelated topics aside from topic 0."
   ]
  },
  {
   "attachments": {},
   "cell_type": "markdown",
   "id": "82e37cb5",
   "metadata": {},
   "source": [
    "## Fitting an LSA Model\n",
    "\n",
    "In this section, follow the example from the repository and fit an LSA model (called a \"TruncatedSVD\" in `sklearn`). Again fit a five-topic model and compare it to the actual categories in the Brown corpus. Use the TF-IDF vectors for your fit, as above. \n",
    "\n",
    "To be explicit, we are once again interested in the extent to which this LSA factorization agrees or disagrees with the original categories in the corpus. For each topic in your model, tally the Brown categories and interpret the results. \n"
   ]
  },
  {
   "cell_type": "code",
   "execution_count": 14,
   "id": "00b53d3d",
   "metadata": {},
   "outputs": [],
   "source": [
    "svd_model = TruncatedSVD(n_components=5, random_state=314)\n",
    "W_svd_matrix = svd_model.fit_transform(tfidf_text_vectors)\n",
    "H_svd_matrix = svd_model.components_"
   ]
  },
  {
   "cell_type": "code",
   "execution_count": 15,
   "id": "647d1c31",
   "metadata": {},
   "outputs": [
    {
     "name": "stdout",
     "output_type": "stream",
     "text": [
      "\n",
      "Topic 00\n",
      "  said (0.44)\n",
      "  mr (0.25)\n",
      "  mrs (0.22)\n",
      "  state (0.20)\n",
      "  man (0.17)\n",
      "\n",
      "Topic 01\n",
      "  said (3.89)\n",
      "  ll (2.73)\n",
      "  didn (2.63)\n",
      "  thought (2.20)\n",
      "  got (1.97)\n",
      "\n",
      "Topic 02\n",
      "  mrs (3.12)\n",
      "  mr (1.70)\n",
      "  said (1.06)\n",
      "  kennedy (0.82)\n",
      "  khrushchev (0.77)\n",
      "\n",
      "Topic 03\n",
      "  mrs (29.45)\n",
      "  club (6.53)\n",
      "  game (6.12)\n",
      "  jr (5.60)\n",
      "  university (5.20)\n",
      "\n",
      "Topic 04\n",
      "  game (4.54)\n",
      "  league (3.27)\n",
      "  baseball (3.22)\n",
      "  ball (3.10)\n",
      "  team (2.94)\n"
     ]
    }
   ],
   "source": [
    "display_topics(svd_model, tfidf_text_vectorizer.get_feature_names_out())"
   ]
  },
  {
   "cell_type": "code",
   "execution_count": 16,
   "id": "2c1ca34e",
   "metadata": {},
   "outputs": [
    {
     "name": "stdout",
     "output_type": "stream",
     "text": [
      "Topic 0 has 148 corresponding documents.\n",
      "[('hobbies', 36), ('news', 34), ('government', 30), ('editorial', 27), ('romance', 21)]\n",
      "Topic 4 has 7 corresponding documents.\n",
      "[('news', 7)]\n",
      "Topic 3 has 3 corresponding documents.\n",
      "[('news', 3)]\n",
      "Topic 1 has 8 corresponding documents.\n",
      "[('romance', 8)]\n"
     ]
    }
   ],
   "source": [
    "svd_topic_cats = get_topic_categories(matrix=W_svd_matrix, df=df)\n",
    "\n",
    "report_topic_categories(dict=svd_topic_cats)"
   ]
  },
  {
   "attachments": {},
   "cell_type": "markdown",
   "id": "4d94d56f",
   "metadata": {},
   "source": [
    "Q: How does your five-topic LSA model compare to the original Brown categories? \n",
    "\n",
    "A: The results are heavily skewed towards Topic 0 and don't correspond well with Brown."
   ]
  },
  {
   "attachments": {},
   "cell_type": "markdown",
   "id": "ea8b280a",
   "metadata": {},
   "source": [
    "Q: What is your interpretation of the display topics output? \n",
    "\n",
    "A: \n",
    "- Topic 0: could be discussing politicians are people in relation to the government.\n",
    "- Topic 1: unclear what the subject matter is.\n",
    "- Topic 2: political conversation between leaders of their respective superpower.\n",
    "- Topic 3: the subject matter is clear that the text is describing the game of baseball."
   ]
  },
  {
   "attachments": {},
   "cell_type": "markdown",
   "id": "b4ab4d29",
   "metadata": {},
   "source": [
    "## Fitting an LDA Model\n",
    "\n",
    "Finally, fit a five-topic LDA model using the count vectors (`count_text_vectors` from above). Display the results using `pyLDAvis.display` and describe what you learn from that visualization. "
   ]
  },
  {
   "cell_type": "code",
   "execution_count": 17,
   "id": "802cb8ff",
   "metadata": {},
   "outputs": [],
   "source": [
    "# Fit your LDA model here\n",
    "lda_model = LatentDirichletAllocation(n_components=5, random_state=314)\n",
    "W_lda_matrix = lda_model.fit_transform(count_text_vectors)\n",
    "H_lda_matrix = lda_model.components_"
   ]
  },
  {
   "cell_type": "code",
   "execution_count": 18,
   "id": "ab18adf5",
   "metadata": {},
   "outputs": [
    {
     "name": "stdout",
     "output_type": "stream",
     "text": [
      "\n",
      "Topic 00\n",
      "  said (1.05)\n",
      "  mrs (0.82)\n",
      "  little (0.56)\n",
      "  good (0.51)\n",
      "  way (0.50)\n",
      "\n",
      "Topic 01\n",
      "  state (0.67)\n",
      "  development (0.63)\n",
      "  000 (0.57)\n",
      "  program (0.48)\n",
      "  business (0.44)\n",
      "\n",
      "Topic 02\n",
      "  said (1.18)\n",
      "  mr (0.72)\n",
      "  president (0.51)\n",
      "  city (0.43)\n",
      "  state (0.37)\n",
      "\n",
      "Topic 03\n",
      "  feed (0.55)\n",
      "  college (0.54)\n",
      "  general (0.44)\n",
      "  university (0.43)\n",
      "  work (0.37)\n",
      "\n",
      "Topic 04\n",
      "  states (1.14)\n",
      "  state (1.02)\n",
      "  united (0.84)\n",
      "  shall (0.66)\n",
      "  government (0.61)\n"
     ]
    }
   ],
   "source": [
    "# Call `display_topics` on your fitted model here\n",
    "display_topics(lda_model, tfidf_text_vectorizer.get_feature_names_out())"
   ]
  },
  {
   "cell_type": "code",
   "execution_count": 19,
   "id": "00478c94",
   "metadata": {},
   "outputs": [
    {
     "name": "stdout",
     "output_type": "stream",
     "text": [
      "Topic 2 has 59 corresponding documents.\n",
      "[('news', 32), ('editorial', 21), ('government', 3), ('hobbies', 2), ('romance', 1)]\n",
      "Topic 0 has 47 corresponding documents.\n",
      "[('romance', 28), ('hobbies', 11), ('news', 4), ('editorial', 3), ('government', 1)]\n",
      "Topic 3 has 17 corresponding documents.\n",
      "[('hobbies', 8), ('government', 4), ('news', 3), ('editorial', 2)]\n",
      "Topic 1 has 25 corresponding documents.\n",
      "[('government', 12), ('hobbies', 9), ('news', 3), ('editorial', 1)]\n",
      "Topic 4 has 18 corresponding documents.\n",
      "[('government', 10), ('hobbies', 6), ('news', 2)]\n"
     ]
    }
   ],
   "source": [
    "lda_topic_cats = get_topic_categories(matrix=W_lda_matrix, df=df)\n",
    "\n",
    "report_topic_categories(dict=lda_topic_cats)"
   ]
  },
  {
   "attachments": {},
   "cell_type": "markdown",
   "id": "f2c67876",
   "metadata": {},
   "source": [
    "Q: What inference do you draw from the displayed topics for your LDA model? \n",
    "\n",
    "A: The LDA model produced broader and more balanced results compared to the LSA model. However, most seem to be somewhat related to the government or state.\n",
    "\n",
    "Q: Repeat the tallying of Brown categories within your topics. How does your five-topic LDA model compare to the original Brown categories? \n",
    "\n",
    "A: LDA topic categories:\n",
    "- Topic 0: romance\n",
    "- Topic 1: government\n",
    "- Topic 2: news\n",
    "- Topic 3: hobbies\n",
    "- Topic 4: government"
   ]
  },
  {
   "cell_type": "code",
   "execution_count": 20,
   "id": "6aae75ca",
   "metadata": {},
   "outputs": [],
   "source": [
    "lda_display = pyLDAvis.lda_model.prepare(lda_model, count_text_vectors, count_text_vectorizer, sort_topics=False)"
   ]
  },
  {
   "cell_type": "code",
   "execution_count": 21,
   "id": "2a89fc15",
   "metadata": {},
   "outputs": [
    {
     "data": {
      "text/html": [
       "\n",
       "<link rel=\"stylesheet\" type=\"text/css\" href=\"https://cdn.jsdelivr.net/gh/bmabey/pyLDAvis@3.4.0/pyLDAvis/js/ldavis.v1.0.0.css\">\n",
       "\n",
       "\n",
       "<div id=\"ldavis_el7259622116257651207349487076\" style=\"background-color:white;\"></div>\n",
       "<script type=\"text/javascript\">\n",
       "\n",
       "var ldavis_el7259622116257651207349487076_data = {\"mdsDat\": {\"x\": [-0.24352303362204117, 0.13055719395525925, -0.05665667547392723, 0.04142748483975122, 0.12819503030095789], \"y\": [0.006829720679473847, -0.055884744701645686, 0.03852366287446598, -0.11285215230955883, 0.1233835134572648], \"topics\": [1, 2, 3, 4, 5], \"cluster\": [1, 1, 1, 1, 1], \"Freq\": [22.896957296534502, 20.43196854284175, 32.00626407252678, 12.368825612932083, 12.295984475164891]}, \"tinfo\": {\"Term\": [\"states\", \"state\", \"said\", \"mrs\", \"united\", \"shall\", \"development\", \"tax\", \"feed\", \"fiscal\", \"college\", \"government\", \"ll\", \"don\", \"000\", \"university\", \"department\", \"didn\", \"sales\", \"president\", \"rhode\", \"got\", \"equipment\", \"little\", \"mother\", \"class\", \"act\", \"program\", \"system\", \"property\", \"hair\", \"baby\", \"clothes\", \"walls\", \"anne\", \"fig\", \"pale\", \"pink\", \"dry\", \"yellow\", \"entrance\", \"hadn\", \"ham\", \"couldn\", \"frames\", \"fingers\", \"flowers\", \"windows\", \"bride\", \"hell\", \"handsome\", \"coat\", \"cloth\", \"sweet\", \"stared\", \"liked\", \"colored\", \"studio\", \"bed\", \"trees\", \"shelter\", \"mother\", \"looked\", \"clay\", \"wasn\", \"guests\", \"didn\", \"woman\", \"sat\", \"pieces\", \"colors\", \"eyes\", \"drill\", \"mrs\", \"ll\", \"don\", \"thought\", \"room\", \"sun\", \"inch\", \"ve\", \"black\", \"little\", \"knew\", \"went\", \"sure\", \"got\", \"door\", \"look\", \"son\", \"know\", \"said\", \"way\", \"come\", \"came\", \"good\", \"place\", \"away\", \"old\", \"water\", \"right\", \"man\", \"let\", \"life\", \"left\", \"house\", \"day\", \"home\", \"systems\", \"marketing\", \"electronic\", \"boats\", \"missiles\", \"components\", \"aircraft\", \"machine\", \"rhode\", \"assessment\", \"shipments\", \"laboratory\", \"bankers\", \"savings\", \"yield\", \"industrial\", \"forests\", \"compared\", \"machines\", \"procurement\", \"missile\", \"conservation\", \"utility\", \"inventories\", \"polaris\", \"manufacturing\", \"machinery\", \"investment\", \"recreation\", \"banks\", \"property\", \"industry\", \"equipment\", \"sales\", \"radiation\", \"planning\", \"development\", \"medical\", \"providence\", \"billion\", \"system\", \"shares\", \"manufacturers\", \"island\", \"1960\", \"production\", \"1959\", \"products\", \"research\", \"co\", \"range\", \"000\", \"program\", \"business\", \"cost\", \"million\", \"available\", \"state\", \"small\", \"company\", \"national\", \"1961\", \"provide\", \"areas\", \"service\", \"use\", \"military\", \"tax\", \"public\", \"khrushchev\", \"player\", \"rayburn\", \"congo\", \"republican\", \"moscow\", \"southern\", \"baseball\", \"railroad\", \"castro\", \"troops\", \"yards\", \"charter\", \"yankees\", \"premier\", \"alexander\", \"democrats\", \"captain\", \"chinese\", \"coach\", \"laos\", \"gen\", \"cuban\", \"opposition\", \"soviet\", \"katanga\", \"republicans\", \"pope\", \"bombs\", \"robinson\", \"berlin\", \"speaker\", \"communist\", \"democratic\", \"eisenhower\", \"league\", \"mayor\", \"cuba\", \"st\", \"police\", \"yesterday\", \"china\", \"west\", \"monday\", \"race\", \"john\", \"east\", \"kennedy\", \"city\", \"mr\", \"meeting\", \"party\", \"president\", \"said\", \"week\", \"war\", \"political\", \"nations\", \"game\", \"committee\", \"leaders\", \"american\", \"world\", \"york\", \"home\", \"county\", \"man\", \"united\", \"people\", \"house\", \"state\", \"day\", \"old\", \"000\", \"government\", \"men\", \"national\", \"states\", \"school\", \"academic\", \"faculty\", \"trustees\", \"campus\", \"recognition\", \"classical\", \"professors\", \"mathematics\", \"musical\", \"tends\", \"feed\", \"stockholders\", \"fulfill\", \"meat\", \"unions\", \"chemical\", \"motors\", \"prosperity\", \"cattle\", \"prestige\", \"designer\", \"curriculum\", \"clerical\", \"catholic\", \"collective\", \"recorded\", \"appearances\", \"creative\", \"membership\", \"trust\", \"music\", \"chamber\", \"students\", \"student\", \"colleges\", \"teachers\", \"college\", \"engineer\", \"interior\", \"university\", \"daily\", \"pool\", \"schools\", \"education\", \"art\", \"general\", \"anti\", \"members\", \"technical\", \"labor\", \"design\", \"administration\", \"level\", \"work\", \"school\", \"president\", \"problem\", \"board\", \"department\", \"american\", \"good\", \"men\", \"aid\", \"world\", \"high\", \"cousin\", \"rehabilitation\", \"coal\", \"vocational\", \"definition\", \"denied\", \"thereof\", \"bonds\", \"payment\", \"rico\", \"puerto\", \"coordination\", \"filing\", \"adopting\", \"recommendation\", \"calendar\", \"hated\", \"proceedings\", \"commodities\", \"sectors\", \"connections\", \"62\", \"vehicles\", \"allocation\", \"treasury\", \"tractor\", \"adjustments\", \"upstairs\", \"shall\", \"assigned\", \"india\", \"exercise\", \"interference\", \"payments\", \"fiscal\", \"authorized\", \"claim\", \"stations\", \"insurance\", \"claims\", \"class\", \"states\", \"income\", \"return\", \"tax\", \"united\", \"junior\", \"hearing\", \"act\", \"countries\", \"cars\", \"state\", \"agreement\", \"department\", \"government\", \"secretary\", \"officer\", \"section\", \"title\", \"federal\", \"use\", \"service\", \"30\", \"board\", \"services\", \"pay\", \"local\", \"day\"], \"Freq\": [328.0, 485.0, 803.0, 307.0, 298.0, 123.0, 199.0, 172.0, 93.0, 107.0, 120.0, 273.0, 167.0, 178.0, 282.0, 122.0, 153.0, 124.0, 117.0, 297.0, 86.0, 147.0, 105.0, 237.0, 97.0, 97.0, 127.0, 230.0, 142.0, 95.0, 35.26603169767951, 35.25985457287084, 32.34282391715049, 32.33880808918395, 34.23407300433102, 31.32761923162944, 26.498517625454493, 25.524771041025016, 23.573236778164112, 25.42713825332058, 21.619428115149063, 30.99304467895145, 19.675700186736574, 51.439817072385075, 20.589733305570032, 17.726312752092984, 23.305040810822852, 16.7519733109185, 17.677966184967975, 15.781789493525487, 15.7806661627821, 15.765038139000252, 14.807347406646535, 14.806857679256787, 14.806525243898378, 14.805562659021433, 15.721341674975072, 14.793031300690535, 34.14874849426121, 27.7424550103045, 57.20416985925254, 90.05985801714502, 78.93387784968837, 75.71076669182486, 53.907238782962956, 29.982839371430043, 108.73073941993056, 50.25085074519482, 34.93419186644634, 48.297523762670515, 27.14174620759292, 83.99183249657627, 31.32831148326813, 234.33243224195502, 134.73682388828433, 142.22532063651968, 113.48998687104923, 84.70739288661424, 47.851073173593406, 58.281643606515416, 69.82209572678227, 54.447334924203034, 159.9387345606824, 71.32903793545289, 100.47914727932272, 70.80739412891518, 101.54763550743192, 56.56434544201606, 89.14937958191943, 57.94278765631479, 112.80221967394907, 300.1915799527, 143.08214720581637, 108.66785528409196, 97.9319284628816, 146.72016490751116, 107.63695959300964, 81.83857826579667, 125.33252753577953, 93.65427756652976, 105.806629894546, 122.43392673750682, 76.37882747857952, 81.8560900906335, 81.25833894745257, 87.71132897871956, 85.95109916972184, 84.11085690371263, 37.62033917696872, 41.260430437148095, 26.108504126894044, 38.014900667186346, 22.240995977940376, 21.223514374686484, 54.248483592252576, 50.39470006191902, 82.33814930496446, 17.226327234066947, 13.599502717078874, 16.290888590985332, 10.74063215723176, 17.005387252552108, 15.133342494227236, 72.03843499105989, 14.938223060272176, 24.574363297207924, 28.90817387123335, 17.448867762039523, 36.58474259793824, 7.8547890081002265, 11.322258118599738, 6.910963131905746, 6.906977941612559, 18.16721140781803, 30.179415379306523, 24.918058009903735, 32.62393120086364, 16.26783135418062, 85.04409531611334, 85.23076408361686, 92.04061867537693, 102.21030740338082, 31.419941862258096, 72.29354736159607, 160.58456695669344, 84.12221117794012, 39.27101304252763, 47.153525908302115, 110.99031567699481, 32.526568880509295, 35.569612133742574, 88.51387155669454, 93.2095888709792, 63.84974612826219, 50.271962739499635, 49.696057546593046, 72.63469421541065, 46.82621040883029, 53.984967876890614, 144.62866634727297, 123.50896845655289, 113.19861054790795, 73.610389068906, 79.16133829903109, 74.66204969189832, 169.46520342296085, 100.4296096564493, 76.12853270707195, 92.20105914345216, 67.16061893470115, 66.50125650021161, 62.631295228027156, 86.66947068147999, 95.41631280398143, 65.25389352558291, 67.84173831149351, 65.61364145319368, 73.4255437478313, 48.67768498296598, 46.7064278383633, 43.73337493489191, 39.77817876808448, 37.800107478394345, 34.82722841019426, 39.61877024477508, 32.84180904847271, 29.88139792837259, 26.91281765701298, 26.899591011392978, 27.860295497571634, 25.925615833025642, 24.93520264611287, 24.927860722599352, 23.946196773271854, 23.938724665538555, 22.949710429481577, 22.94066110961126, 49.61478194372415, 21.955319680146996, 20.974708622899183, 20.956960655847773, 78.92743956978487, 19.982341472209384, 19.97284168478859, 19.96743951892556, 18.99653596416778, 18.994551077568097, 63.224259726459245, 40.660686563695144, 70.96278176057122, 59.004657601841274, 38.6466332099793, 57.99120476200693, 43.21771150153893, 36.746255661940815, 71.47530467432709, 44.379150265041304, 58.02965358273131, 32.82823725515495, 96.08418538831442, 58.46515417030859, 40.505659296093064, 142.98368478351816, 83.8542012142748, 111.14875577393465, 172.62353200026396, 287.87814236030135, 84.13213702614433, 92.0177227015354, 205.40634873734777, 470.8902208582264, 140.76265143256018, 113.01139950261599, 71.05038233620003, 67.16518889885631, 73.87620209973893, 83.7617194529072, 50.00246714063652, 148.64615016805413, 138.1358696255811, 96.83009236355024, 140.02404620727515, 76.8335005155327, 129.58037547484787, 125.62152536157595, 118.36210204722785, 110.5650144932813, 148.84517946191187, 119.60071243642452, 108.76991140081181, 105.30536803757659, 99.52164947706378, 90.4656178111905, 91.5784925449434, 96.15786407278621, 83.84436994950705, 27.814826569302774, 48.936847090043734, 18.50350998538598, 14.879468477087567, 15.473941152164223, 9.373352607053873, 8.429864173735863, 7.546272419664455, 18.414920463159135, 7.518959799427076, 84.44155436104484, 18.268486568333234, 6.622128289059265, 19.54171382466283, 18.587130254335868, 23.14611199920265, 38.251971813159585, 4.773288678682477, 17.38156673692047, 10.238816773832234, 14.802706325018884, 7.011676741661537, 4.663272913791556, 25.47959588243607, 10.014582060857443, 7.582398158918763, 4.540015041328794, 12.853649254073646, 19.42562838303666, 29.706978723475036, 46.82501087835091, 21.45040054139246, 52.99436840195954, 54.955281373609466, 16.31100829518636, 25.620730698223618, 83.62014229714055, 24.941675902345857, 28.63345949233646, 67.01241734256327, 33.33126174189994, 43.62737654411691, 49.320379208309234, 46.41828570415964, 34.856196031964885, 67.66899625922109, 32.103813511591774, 51.623028144456384, 31.177936996002895, 33.89549304217488, 35.040820639017596, 44.49327955892608, 35.228834426741585, 56.4886125277831, 47.16711951156597, 55.68778966133614, 39.64150536052208, 42.715660545388054, 38.01482404768322, 43.01510978367247, 42.9025617857025, 38.25715440917915, 34.06878160168587, 37.62879650451412, 34.84607073269732, 24.895381739117976, 17.608710471055954, 22.617152720693518, 12.988354717680924, 12.08165117895219, 17.25576125805937, 11.043916669732564, 28.50439130794218, 36.75187172723361, 17.29261904159074, 17.289973715259784, 6.58620182237204, 15.531276371536133, 5.669749860722198, 16.06995842193478, 20.12573678235822, 5.626627615289119, 6.416436823858561, 14.343171489794281, 4.761534756745244, 5.5472384829849, 5.532508833757222, 35.569508144024255, 10.223530392476135, 22.86656696765855, 19.499373411737285, 10.913572827235205, 5.430408333634543, 101.16733937850341, 9.141628146127214, 29.604377811543053, 21.94557072459193, 28.494458626329273, 31.90274794139727, 82.24350507900967, 23.619992267391172, 32.823688144756105, 43.5739973968502, 25.757310222259775, 22.213358197218625, 63.52515544416806, 175.30239292056729, 50.03986268624495, 41.16101243435992, 86.65875331991826, 128.39237926387443, 39.91034171743864, 33.815786827704954, 65.01077528351244, 47.420605346201995, 40.20927959281343, 156.29426259717047, 38.83917469224601, 66.04762002987114, 93.49618556474664, 54.839090750251806, 32.983787896321424, 41.664568001741856, 29.989970407909542, 43.23305137556861, 57.37752089386212, 52.70114914664669, 42.22418118531048, 42.52715360132986, 36.829108002786285, 37.096810629376066, 36.74442128741987, 37.17615767602709], \"Total\": [328.0, 485.0, 803.0, 307.0, 298.0, 123.0, 199.0, 172.0, 93.0, 107.0, 120.0, 273.0, 167.0, 178.0, 282.0, 122.0, 153.0, 124.0, 117.0, 297.0, 86.0, 147.0, 105.0, 237.0, 97.0, 97.0, 127.0, 230.0, 142.0, 95.0, 36.026039124999855, 36.02588883819035, 33.103221722997645, 33.103199451516204, 35.05056255948611, 32.1285378748327, 27.25759589658222, 26.283381057698204, 24.33472332364592, 26.284575607309364, 22.38617131270356, 32.13491772930472, 20.437642353730425, 53.48541765786137, 21.41300921211938, 18.4889776978158, 24.319878358135636, 17.51484102850205, 18.489977886518645, 16.540707205667314, 16.54068383919485, 16.540152118252482, 15.566432075823174, 15.566368553159577, 15.566439385894087, 15.566408536159061, 16.54112310277151, 15.566128130021553, 35.96189057796925, 29.216873363902355, 60.42030248595256, 97.50813665440421, 85.7145214635168, 82.7655748288131, 58.48806964583604, 32.15043643449321, 124.77305109139077, 55.495934070275915, 37.89639184076528, 53.44875378566885, 29.18685535443565, 98.42108266493298, 34.10865925517126, 307.99715835781416, 167.83422712513706, 178.18542278378123, 139.82171036116083, 103.42674442190595, 54.562238116231995, 68.76954856434931, 84.83647160041038, 64.26201397041542, 237.75277971425643, 90.51973633420369, 137.70593095628732, 91.77444009129971, 147.7937685617617, 70.06214294099414, 129.8665751690667, 73.99592681862175, 191.4807208043415, 803.8548070648301, 274.85427260577245, 186.0737233498349, 163.15899799670467, 306.43403590768935, 190.1554441273065, 123.89985251249692, 254.84946828941258, 162.71698521260237, 213.5733828440322, 283.0153604519204, 121.95636925526733, 161.53017716157902, 163.20991301290178, 234.1218436768741, 302.34647433345026, 268.5137641979604, 38.38900181276877, 42.219751146557094, 26.87023951148844, 39.32530511253739, 23.031355908186306, 22.069023878838706, 56.676640666140834, 52.83541185825124, 86.46800449904774, 18.22147763216325, 14.390064081926594, 17.262361508112296, 11.511442662430941, 18.237457198455726, 16.29290344655111, 78.46760127905355, 16.284197226960185, 26.80226895725754, 31.6452633808106, 19.147274411366535, 40.189557722273236, 8.631750433563726, 12.45816909897062, 7.671836647717194, 7.671950307157864, 20.188446423100245, 33.5822871554751, 27.75816573167874, 36.44648449277565, 18.179838892874358, 95.59958109020063, 96.9321239216038, 105.65758026062835, 117.78573708942208, 35.559443489422456, 85.01192732215902, 199.00113683933068, 101.02292341395614, 45.14381488359428, 54.90118963074967, 142.6626279152399, 37.27576952579071, 41.990975863697145, 120.33277045687868, 129.77818451581402, 84.83256378608131, 63.727084038071915, 62.84418723668005, 102.98876739202447, 59.708950181379876, 72.90815716855988, 282.944274124436, 230.3215726978667, 209.32374748162164, 115.94033775080962, 128.99304695412934, 119.71572579817416, 485.5254739281197, 211.37539248235035, 138.53740854960463, 215.73422314818566, 114.91801537520541, 112.93575546782283, 99.90679935398603, 203.5790903421851, 253.44869724604663, 123.30539886857116, 172.8096418311656, 200.80538207395293, 74.18132611605132, 49.44169052826696, 47.46260119923947, 44.49359036010499, 40.53551399617139, 38.55638985076479, 35.587527828435505, 40.52408901130407, 33.60786999510347, 30.63965223281026, 27.670894341231335, 27.670809878218456, 28.659135933770333, 26.681481371686978, 25.691806203590655, 25.69167832547871, 24.702282074756585, 24.702154272987816, 23.712487033002056, 23.71193932275298, 51.34436129166913, 22.722416271833264, 21.733411082028503, 21.732251919217546, 81.9311636578414, 20.743599793201984, 20.742911377657403, 20.743329613458666, 19.75425783489288, 19.754312772549596, 66.10674015267467, 42.43698376216305, 74.99667222533031, 62.130383241294695, 40.452779241734085, 61.20732427285948, 45.37927277280932, 38.47958552212632, 78.03996648950981, 47.29725623534735, 63.02723087036468, 34.528652937106536, 108.34119862739155, 64.00922906655565, 43.34070314169643, 171.4081764578153, 96.50766365165035, 132.04188079153852, 217.90548917781658, 392.8566393536837, 99.38191347480667, 110.4119071013219, 297.089385911943, 803.8548070648301, 190.95279899715118, 148.12895827305647, 84.33186741272118, 80.65436811910895, 91.54281280787274, 111.05863796939242, 55.26520309710713, 262.8761488078902, 256.08998245885533, 148.4697207814733, 268.5137641979604, 105.84498183835268, 283.0153604519204, 298.7240339741694, 265.61772341053467, 234.1218436768741, 485.5254739281197, 302.34647433345026, 254.84946828941258, 282.944274124436, 273.1049196397214, 193.49518722056052, 215.73422314818566, 328.0876630034329, 171.6826664515605, 28.587671191002883, 50.75235104005468, 19.380805810593994, 15.693304333758894, 16.633414863075213, 10.165631588135192, 9.24571212382063, 8.322226888959054, 20.348539793129635, 8.322341294361461, 93.529121342009, 20.35067352827828, 7.401195317063839, 22.20297288052513, 21.26355699827258, 26.86417661430777, 44.46685073473464, 5.559156794388775, 20.429848324794328, 12.080566726948904, 17.616166085442206, 8.344571664079323, 5.563614525856895, 30.740062340111123, 12.097121988775974, 9.30906225992751, 5.57581096537123, 15.790102910241021, 24.23635962717947, 37.140658075135555, 59.64261324812848, 27.08108297787437, 68.97438698866306, 71.68275492289163, 20.46714171356445, 33.34760135025248, 120.99975166695646, 32.58028930812074, 39.89608051957487, 122.31078776847798, 52.4985276015062, 75.23212830270081, 89.45812584148686, 84.56146294600373, 57.49325835273575, 198.00621277778865, 57.797206402033424, 140.21994582812474, 57.24356765830148, 68.34216300022533, 74.72871037779427, 131.4090715711944, 82.9849645023583, 256.9778623927557, 171.6826664515605, 297.089385911943, 117.3628247872546, 173.0251476470948, 153.03062002567154, 262.8761488078902, 306.43403590768935, 193.49518722056052, 99.64739691842237, 256.08998245885533, 217.96093203160194, 25.71990035695816, 18.37920616005881, 23.884995096222227, 13.795801363596595, 12.87739387343771, 18.395872134442165, 11.965555537317128, 31.301788527830112, 40.52555344944821, 19.305747619464785, 19.305381735641998, 7.3736650185943535, 17.516110794478664, 6.456504867903872, 18.386543136832, 23.075914689335157, 6.459370956327419, 7.374057915469403, 16.593451639249764, 5.538818995171578, 6.462219526241366, 6.457204216744049, 41.582448440815796, 11.963052970316339, 26.870254060738837, 23.091351462145624, 12.931560935207873, 6.47169281548469, 123.04949327572994, 11.129093826135742, 36.08726596770423, 26.77461259555284, 35.19197255344375, 39.79154818535331, 107.51555928474956, 29.57370429691559, 42.54665994150672, 57.80855935459401, 33.29164203718923, 28.658975142612615, 97.16968285832584, 328.0876630034329, 79.94285226747931, 64.56516799991914, 172.8096418311656, 298.7240339741694, 62.790765491912744, 50.55168073966495, 127.86759220361672, 82.87435176840476, 65.84647973719714, 485.5254739281197, 64.87874739797843, 153.03062002567154, 273.1049196397214, 119.84296064796652, 52.256274530525005, 81.49566812100723, 44.58064300425609, 112.63804601931176, 253.44869724604663, 203.5790903421851, 114.38793137157595, 173.0251476470948, 93.38657624530408, 103.8905858999049, 128.42114372832089, 302.34647433345026], \"Category\": [\"Default\", \"Default\", \"Default\", \"Default\", \"Default\", \"Default\", \"Default\", \"Default\", \"Default\", \"Default\", \"Default\", \"Default\", \"Default\", \"Default\", \"Default\", \"Default\", \"Default\", \"Default\", \"Default\", \"Default\", \"Default\", \"Default\", \"Default\", \"Default\", \"Default\", \"Default\", \"Default\", \"Default\", \"Default\", \"Default\", \"Topic1\", \"Topic1\", \"Topic1\", \"Topic1\", \"Topic1\", \"Topic1\", \"Topic1\", \"Topic1\", \"Topic1\", \"Topic1\", \"Topic1\", \"Topic1\", \"Topic1\", \"Topic1\", \"Topic1\", \"Topic1\", \"Topic1\", \"Topic1\", \"Topic1\", \"Topic1\", \"Topic1\", \"Topic1\", \"Topic1\", \"Topic1\", \"Topic1\", \"Topic1\", \"Topic1\", \"Topic1\", \"Topic1\", \"Topic1\", \"Topic1\", \"Topic1\", \"Topic1\", \"Topic1\", \"Topic1\", \"Topic1\", \"Topic1\", \"Topic1\", \"Topic1\", \"Topic1\", \"Topic1\", \"Topic1\", \"Topic1\", \"Topic1\", \"Topic1\", \"Topic1\", \"Topic1\", \"Topic1\", \"Topic1\", \"Topic1\", \"Topic1\", \"Topic1\", \"Topic1\", \"Topic1\", \"Topic1\", \"Topic1\", \"Topic1\", \"Topic1\", \"Topic1\", \"Topic1\", \"Topic1\", \"Topic1\", \"Topic1\", \"Topic1\", \"Topic1\", \"Topic1\", \"Topic1\", \"Topic1\", \"Topic1\", \"Topic1\", \"Topic1\", \"Topic1\", \"Topic1\", \"Topic1\", \"Topic1\", \"Topic1\", \"Topic1\", \"Topic1\", \"Topic2\", \"Topic2\", \"Topic2\", \"Topic2\", \"Topic2\", \"Topic2\", \"Topic2\", \"Topic2\", \"Topic2\", \"Topic2\", \"Topic2\", \"Topic2\", \"Topic2\", \"Topic2\", \"Topic2\", \"Topic2\", \"Topic2\", \"Topic2\", \"Topic2\", \"Topic2\", \"Topic2\", \"Topic2\", \"Topic2\", \"Topic2\", \"Topic2\", \"Topic2\", \"Topic2\", \"Topic2\", \"Topic2\", \"Topic2\", \"Topic2\", \"Topic2\", \"Topic2\", \"Topic2\", \"Topic2\", \"Topic2\", \"Topic2\", \"Topic2\", \"Topic2\", \"Topic2\", \"Topic2\", \"Topic2\", \"Topic2\", \"Topic2\", \"Topic2\", \"Topic2\", \"Topic2\", \"Topic2\", \"Topic2\", \"Topic2\", \"Topic2\", \"Topic2\", \"Topic2\", \"Topic2\", \"Topic2\", \"Topic2\", \"Topic2\", \"Topic2\", \"Topic2\", \"Topic2\", \"Topic2\", \"Topic2\", \"Topic2\", \"Topic2\", \"Topic2\", \"Topic2\", \"Topic2\", \"Topic2\", \"Topic2\", \"Topic3\", \"Topic3\", \"Topic3\", \"Topic3\", \"Topic3\", \"Topic3\", \"Topic3\", \"Topic3\", \"Topic3\", \"Topic3\", \"Topic3\", \"Topic3\", \"Topic3\", \"Topic3\", \"Topic3\", \"Topic3\", \"Topic3\", \"Topic3\", \"Topic3\", \"Topic3\", \"Topic3\", \"Topic3\", \"Topic3\", \"Topic3\", \"Topic3\", \"Topic3\", \"Topic3\", \"Topic3\", \"Topic3\", \"Topic3\", \"Topic3\", \"Topic3\", \"Topic3\", \"Topic3\", \"Topic3\", \"Topic3\", \"Topic3\", \"Topic3\", \"Topic3\", \"Topic3\", \"Topic3\", \"Topic3\", \"Topic3\", \"Topic3\", \"Topic3\", \"Topic3\", \"Topic3\", \"Topic3\", \"Topic3\", \"Topic3\", \"Topic3\", \"Topic3\", \"Topic3\", \"Topic3\", \"Topic3\", \"Topic3\", \"Topic3\", \"Topic3\", \"Topic3\", \"Topic3\", \"Topic3\", \"Topic3\", \"Topic3\", \"Topic3\", \"Topic3\", \"Topic3\", \"Topic3\", \"Topic3\", \"Topic3\", \"Topic3\", \"Topic3\", \"Topic3\", \"Topic3\", \"Topic3\", \"Topic3\", \"Topic3\", \"Topic3\", \"Topic3\", \"Topic3\", \"Topic4\", \"Topic4\", \"Topic4\", \"Topic4\", \"Topic4\", \"Topic4\", \"Topic4\", \"Topic4\", \"Topic4\", \"Topic4\", \"Topic4\", \"Topic4\", \"Topic4\", \"Topic4\", \"Topic4\", \"Topic4\", \"Topic4\", \"Topic4\", \"Topic4\", \"Topic4\", \"Topic4\", \"Topic4\", \"Topic4\", \"Topic4\", \"Topic4\", \"Topic4\", \"Topic4\", \"Topic4\", \"Topic4\", \"Topic4\", \"Topic4\", \"Topic4\", \"Topic4\", \"Topic4\", \"Topic4\", \"Topic4\", \"Topic4\", \"Topic4\", \"Topic4\", \"Topic4\", \"Topic4\", \"Topic4\", \"Topic4\", \"Topic4\", \"Topic4\", \"Topic4\", \"Topic4\", \"Topic4\", \"Topic4\", \"Topic4\", \"Topic4\", \"Topic4\", \"Topic4\", \"Topic4\", \"Topic4\", \"Topic4\", \"Topic4\", \"Topic4\", \"Topic4\", \"Topic4\", \"Topic4\", \"Topic4\", \"Topic4\", \"Topic4\", \"Topic4\", \"Topic5\", \"Topic5\", \"Topic5\", \"Topic5\", \"Topic5\", \"Topic5\", \"Topic5\", \"Topic5\", \"Topic5\", \"Topic5\", \"Topic5\", \"Topic5\", \"Topic5\", \"Topic5\", \"Topic5\", \"Topic5\", \"Topic5\", \"Topic5\", \"Topic5\", \"Topic5\", \"Topic5\", \"Topic5\", \"Topic5\", \"Topic5\", \"Topic5\", \"Topic5\", \"Topic5\", \"Topic5\", \"Topic5\", \"Topic5\", \"Topic5\", \"Topic5\", \"Topic5\", \"Topic5\", \"Topic5\", \"Topic5\", \"Topic5\", \"Topic5\", \"Topic5\", \"Topic5\", \"Topic5\", \"Topic5\", \"Topic5\", \"Topic5\", \"Topic5\", \"Topic5\", \"Topic5\", \"Topic5\", \"Topic5\", \"Topic5\", \"Topic5\", \"Topic5\", \"Topic5\", \"Topic5\", \"Topic5\", \"Topic5\", \"Topic5\", \"Topic5\", \"Topic5\", \"Topic5\", \"Topic5\", \"Topic5\", \"Topic5\", \"Topic5\", \"Topic5\", \"Topic5\", \"Topic5\", \"Topic5\"], \"logprob\": [30.0, 29.0, 28.0, 27.0, 26.0, 25.0, 24.0, 23.0, 22.0, 21.0, 20.0, 19.0, 18.0, 17.0, 16.0, 15.0, 14.0, 13.0, 12.0, 11.0, 10.0, 9.0, 8.0, 7.0, 6.0, 5.0, 4.0, 3.0, 2.0, 1.0, -6.6963, -6.6965, -6.7828, -6.7829, -6.726, -6.8147, -6.9821, -7.0195, -7.0991, -7.0234, -7.1856, -6.8254, -7.2798, -6.3188, -7.2344, -7.3841, -7.1105, -7.4407, -7.3869, -7.5003, -7.5004, -7.5014, -7.5641, -7.5641, -7.5641, -7.5642, -7.5042, -7.565, -6.7285, -6.9362, -6.2126, -5.7587, -5.8906, -5.9323, -6.2719, -6.8586, -5.5703, -6.3422, -6.7057, -6.3818, -6.9581, -5.8285, -6.8147, -4.8025, -5.3559, -5.3018, -5.5275, -5.82, -6.3911, -6.1939, -6.0132, -6.262, -5.1844, -5.9919, -5.6492, -5.9992, -5.6387, -6.2238, -5.7689, -6.1997, -5.5336, -4.5548, -5.2958, -5.5709, -5.6749, -5.2707, -5.5804, -5.8544, -5.4282, -5.7196, -5.5976, -5.4516, -5.9235, -5.8542, -5.8616, -5.7851, -5.8054, -5.8271, -6.5177, -6.4254, -6.883, -6.5073, -7.0434, -7.0902, -6.1517, -6.2254, -5.7345, -7.2989, -7.5353, -7.3547, -7.7713, -7.3118, -7.4284, -5.8681, -7.4414, -6.9436, -6.7812, -7.286, -6.5457, -8.0842, -7.7185, -8.2122, -8.2128, -7.2457, -6.7381, -6.9297, -6.6602, -7.3561, -5.7021, -5.6999, -5.6231, -5.5183, -6.6978, -5.8646, -5.0665, -5.713, -6.4748, -6.2919, -5.4358, -6.6632, -6.5738, -5.6621, -5.6104, -5.9888, -6.2278, -6.2394, -5.8598, -6.2988, -6.1566, -5.1711, -5.329, -5.4161, -5.8465, -5.7738, -5.8323, -5.0126, -5.5358, -5.8129, -5.6213, -5.9382, -5.9481, -6.008, -5.6832, -5.587, -5.967, -5.9281, -5.9615, -6.2979, -6.7089, -6.7502, -6.816, -6.9108, -6.9618, -7.0437, -6.9148, -7.1024, -7.1969, -7.3015, -7.302, -7.2669, -7.3389, -7.3778, -7.3781, -7.4183, -7.4186, -7.4608, -7.4612, -6.6898, -7.5051, -7.5508, -7.5517, -6.2256, -7.5993, -7.5997, -7.6, -7.6499, -7.65, -6.4474, -6.8889, -6.332, -6.5165, -6.9397, -6.5338, -6.8279, -6.9901, -6.3248, -6.8014, -6.5332, -7.1028, -6.0289, -6.5257, -6.8927, -5.6314, -6.165, -5.8833, -5.443, -4.9316, -6.1617, -6.0721, -5.2691, -4.4395, -5.647, -5.8666, -6.3307, -6.387, -6.2917, -6.1661, -6.6821, -5.5926, -5.6659, -6.0212, -5.6523, -6.2525, -5.7298, -5.7608, -5.8204, -5.8885, -5.5912, -5.81, -5.9049, -5.9373, -5.9937, -6.0892, -6.0769, -6.0281, -6.1652, -6.3178, -5.7528, -6.7254, -6.9434, -6.9042, -7.4055, -7.5116, -7.6223, -6.7302, -7.6259, -5.2073, -6.7382, -7.753, -6.6708, -6.7209, -6.5015, -5.9992, -8.0803, -6.788, -7.3172, -6.9486, -7.6958, -8.1037, -6.4055, -7.3393, -7.6175, -8.1304, -7.0897, -6.6768, -6.252, -5.797, -6.5776, -5.6732, -5.6369, -6.8515, -6.4, -5.2171, -6.4268, -6.2888, -5.4385, -6.1369, -5.8677, -5.745, -5.8057, -6.0921, -5.4287, -6.1744, -5.6994, -6.2037, -6.1201, -6.0869, -5.848, -6.0815, -5.6093, -5.7897, -5.6236, -5.9635, -5.8888, -6.0054, -5.8818, -5.8844, -5.999, -6.115, -6.0156, -6.0924, -6.4228, -6.7691, -6.5188, -7.0734, -7.1458, -6.7893, -7.2356, -6.2874, -6.0333, -6.7872, -6.7873, -7.7525, -6.8946, -7.9023, -6.8605, -6.6355, -7.91, -7.7786, -6.9742, -8.0769, -7.9242, -7.9268, -6.066, -7.3128, -6.5078, -6.6671, -7.2475, -7.9454, -5.0207, -7.4246, -6.2495, -6.5489, -6.2878, -6.1748, -5.2278, -6.4754, -6.1463, -5.863, -6.3887, -6.5368, -5.486, -4.471, -5.7246, -5.92, -5.1755, -4.7824, -5.9508, -6.1165, -5.4629, -5.7784, -5.9434, -4.5857, -5.978, -5.4471, -5.0995, -5.6331, -6.1414, -5.9078, -6.2366, -5.8709, -5.5878, -5.6728, -5.8945, -5.8873, -6.0312, -6.0239, -6.0335, -6.0218], \"loglift\": [30.0, 29.0, 28.0, 27.0, 26.0, 25.0, 24.0, 23.0, 22.0, 21.0, 20.0, 19.0, 18.0, 17.0, 16.0, 15.0, 14.0, 13.0, 12.0, 11.0, 10.0, 9.0, 8.0, 7.0, 6.0, 5.0, 4.0, 3.0, 2.0, 1.0, 1.4528, 1.4527, 1.4509, 1.4508, 1.4506, 1.4489, 1.4459, 1.4449, 1.4424, 1.441, 1.4393, 1.438, 1.4362, 1.4352, 1.435, 1.432, 1.4315, 1.4296, 1.4293, 1.4272, 1.4271, 1.4262, 1.4242, 1.4241, 1.4241, 1.4241, 1.4233, 1.4232, 1.4224, 1.4224, 1.4195, 1.3947, 1.3918, 1.3851, 1.3926, 1.4044, 1.3365, 1.3749, 1.3928, 1.3728, 1.4015, 1.3156, 1.3891, 1.2008, 1.2545, 1.2488, 1.2655, 1.2745, 1.3429, 1.3087, 1.2794, 1.3084, 1.0777, 1.2359, 1.159, 1.2148, 1.0989, 1.2602, 1.098, 1.2296, 0.945, 0.4892, 0.8213, 0.9363, 0.9637, 0.7377, 0.9051, 1.0594, 0.7645, 0.9218, 0.7718, 0.6362, 1.0062, 0.7944, 0.7768, 0.4924, 0.2164, 0.3134, 1.5678, 1.5651, 1.5593, 1.5542, 1.5532, 1.549, 1.5443, 1.5408, 1.5391, 1.5319, 1.5316, 1.5301, 1.5188, 1.5181, 1.5142, 1.5026, 1.5018, 1.5013, 1.4976, 1.4952, 1.4941, 1.4937, 1.4925, 1.4836, 1.483, 1.4826, 1.4812, 1.4801, 1.4773, 1.4769, 1.4711, 1.4594, 1.4501, 1.4462, 1.4643, 1.426, 1.3736, 1.405, 1.4487, 1.4359, 1.337, 1.4518, 1.4221, 1.281, 1.2571, 1.3039, 1.3509, 1.3533, 1.2389, 1.345, 1.2876, 0.917, 0.9649, 0.9733, 1.1338, 1.0998, 1.1159, 0.5355, 0.8439, 0.9894, 0.738, 1.0509, 1.0585, 1.1211, 0.7341, 0.6112, 0.9517, 0.6531, 0.4695, 1.129, 1.1237, 1.1232, 1.122, 1.1204, 1.1194, 1.1176, 1.1166, 1.1162, 1.1142, 1.1115, 1.111, 1.111, 1.1105, 1.1093, 1.1091, 1.1082, 1.1078, 1.1065, 1.1062, 1.105, 1.1049, 1.1037, 1.1029, 1.1019, 1.1018, 1.1014, 1.1011, 1.1001, 1.1, 1.0947, 1.0965, 1.084, 1.0876, 1.0936, 1.0853, 1.0904, 1.0931, 1.0514, 1.0756, 1.0566, 1.0887, 1.0192, 1.0486, 1.0716, 0.9579, 0.9987, 0.967, 0.9063, 0.8283, 0.9727, 0.957, 0.7702, 0.6044, 0.8343, 0.8686, 0.9679, 0.9562, 0.9248, 0.8572, 1.0392, 0.5691, 0.5219, 0.7118, 0.4882, 0.8189, 0.358, 0.273, 0.3309, 0.389, -0.0431, 0.2118, 0.2878, 0.1509, 0.1298, 0.379, 0.2824, -0.0881, 0.4226, 2.0626, 2.0536, 2.0437, 2.0367, 2.0177, 2.0088, 1.9976, 1.9921, 1.9901, 1.9885, 1.9878, 1.9821, 1.9788, 1.9623, 1.9555, 1.941, 1.9394, 1.9376, 1.9284, 1.9246, 1.916, 1.916, 1.9135, 1.9023, 1.9011, 1.8848, 1.8845, 1.8842, 1.8687, 1.8667, 1.848, 1.8569, 1.8264, 1.8243, 1.863, 1.8264, 1.7205, 1.8228, 1.7583, 1.4883, 1.6357, 1.5451, 1.4946, 1.4902, 1.5896, 1.0163, 1.502, 1.0907, 1.4824, 1.3887, 1.3326, 1.007, 1.2332, 0.575, 0.798, 0.4157, 1.0046, 0.6911, 0.6973, 0.2799, 0.1239, 0.4691, 1.0167, 0.1722, 0.2566, 2.0633, 2.0531, 2.0414, 2.0356, 2.0321, 2.0319, 2.0157, 2.0023, 1.9982, 1.9858, 1.9856, 1.983, 1.9756, 1.966, 1.9612, 1.9591, 1.9579, 1.9568, 1.9502, 1.9447, 1.9432, 1.9413, 1.9397, 1.9388, 1.9346, 1.9268, 1.9262, 1.9205, 1.9001, 1.8992, 1.8979, 1.897, 1.8848, 1.8749, 1.8279, 1.8711, 1.8364, 1.8132, 1.8393, 1.8411, 1.6709, 1.4691, 1.6274, 1.6457, 1.4057, 1.2515, 1.6427, 1.6938, 1.4195, 1.5376, 1.6027, 0.9624, 1.5828, 1.2556, 1.024, 1.3141, 1.6358, 1.425, 1.6995, 1.1383, 0.6104, 0.7445, 1.0993, 0.6926, 1.1654, 1.0661, 0.8446, -0.0]}, \"token.table\": {\"Topic\": [1, 2, 3, 4, 5, 2, 3, 2, 3, 5, 1, 2, 3, 4, 5, 1, 2, 3, 4, 5, 5, 4, 1, 2, 3, 4, 5, 2, 5, 2, 3, 4, 5, 5, 2, 3, 5, 1, 2, 3, 4, 5, 2, 3, 3, 4, 5, 1, 2, 3, 4, 5, 1, 3, 4, 5, 4, 1, 2, 3, 4, 5, 1, 2, 3, 4, 2, 3, 5, 2, 4, 5, 1, 2, 4, 5, 1, 3, 4, 5, 1, 2, 2, 5, 3, 1, 5, 3, 4, 2, 3, 1, 3, 4, 1, 2, 3, 4, 5, 2, 5, 3, 2, 5, 1, 1, 2, 3, 4, 5, 1, 2, 5, 1, 2, 3, 5, 4, 3, 2, 3, 5, 3, 3, 4, 1, 3, 4, 3, 4, 3, 2, 4, 3, 4, 3, 1, 2, 3, 5, 2, 3, 4, 5, 2, 3, 4, 5, 1, 3, 4, 5, 4, 1, 2, 3, 4, 1, 1, 1, 2, 3, 4, 3, 4, 5, 1, 3, 4, 1, 2, 3, 4, 1, 2, 3, 4, 1, 1, 2, 1, 2, 3, 4, 5, 2, 3, 4, 2, 4, 5, 2, 3, 5, 2, 3, 4, 5, 2, 5, 2, 3, 5, 2, 5, 1, 2, 3, 4, 5, 1, 5, 2, 3, 4, 5, 2, 3, 4, 5, 5, 2, 3, 4, 3, 5, 3, 2, 4, 1, 2, 3, 4, 5, 1, 2, 3, 4, 5, 5, 3, 4, 3, 2, 5, 2, 3, 4, 5, 1, 2, 4, 2, 4, 1, 2, 4, 5, 1, 3, 4, 1, 2, 3, 4, 5, 1, 3, 4, 1, 3, 1, 1, 2, 3, 5, 1, 2, 3, 4, 5, 3, 5, 2, 1, 2, 4, 1, 1, 2, 4, 1, 4, 5, 1, 3, 4, 1, 4, 2, 3, 4, 5, 1, 2, 3, 4, 1, 2, 5, 1, 2, 5, 1, 2, 5, 1, 4, 1, 2, 3, 4, 3, 1, 2, 3, 4, 5, 1, 2, 3, 4, 5, 1, 3, 2, 3, 4, 5, 1, 3, 1, 3, 1, 1, 1, 5, 3, 4, 5, 1, 1, 2, 3, 4, 5, 1, 2, 3, 4, 5, 1, 2, 3, 4, 5, 1, 2, 3, 4, 1, 2, 4, 5, 2, 3, 4, 5, 2, 4, 2, 3, 4, 5, 2, 3, 4, 5, 2, 3, 4, 5, 2, 3, 4, 5, 2, 2, 4, 1, 2, 3, 4, 5, 1, 2, 3, 4, 5, 1, 3, 4, 5, 3, 2, 3, 4, 5, 3, 1, 3, 4, 5, 1, 2, 3, 4, 5, 2, 3, 4, 5, 2, 3, 5, 1, 2, 3, 1, 3, 4, 1, 3, 4, 5, 1, 2, 3, 4, 5, 1, 2, 3, 4, 5, 1, 2, 3, 4, 5, 1, 1, 2, 3, 4, 5, 1, 3, 4, 5, 1, 2, 3, 4, 5, 1, 2, 3, 4, 5, 1, 2, 3, 5, 2, 3, 2, 3, 5, 1, 2, 4, 1, 2, 3, 4, 5, 2, 4, 2, 3, 2, 4, 3, 4, 3, 4, 5, 2, 4, 5, 1, 2, 3, 4, 1, 2, 3, 4, 2, 3, 4, 1, 2, 3, 4, 5, 2, 3, 5, 1, 2, 3, 4, 5, 2, 4, 2, 1, 3, 4, 5, 3, 1, 3, 2, 4, 1, 2, 3, 4, 5, 1, 3, 1, 4, 2, 4, 1, 2, 3, 4, 5, 2, 3, 4, 5, 2, 3, 4, 5, 1, 2, 3, 4, 5, 3, 1, 1, 3, 4, 1, 2, 3, 4, 5, 2, 5, 2, 5, 1, 2, 3, 4, 5, 1, 2, 3, 4, 1, 1, 2, 3, 4, 5, 1, 2, 4, 5, 3, 2, 3, 4, 5, 2, 3, 4, 5, 1, 2, 4, 5, 3, 3, 1, 2, 3, 4, 5, 3, 4, 2, 3, 4, 5, 5, 2, 5, 1, 2, 3, 4, 5, 1, 2, 4, 5, 4, 2, 3, 4, 5, 1, 2, 4, 5, 4, 1, 2, 3, 4, 5, 2, 3, 4, 2, 3, 4, 5, 4, 5, 3, 5, 1, 2, 3, 1, 2, 3, 4, 5, 3, 1, 4, 4, 5, 3, 4, 1, 2, 5, 5, 3, 3, 1, 2, 3, 4, 5, 1, 3, 4, 5, 2, 3, 4, 5, 1, 2, 3, 4, 5, 3, 1, 3, 5, 1, 2, 3, 4, 5, 2, 3, 4, 5, 1, 3, 4, 1, 2, 1, 2, 3, 4, 5, 1, 2, 3, 4, 5, 2, 3, 4, 5, 1, 2, 4, 5, 5, 1, 2, 3, 4, 5, 2, 3, 4, 5, 1, 2, 3, 4, 5, 2, 3, 5, 1, 3, 2, 1, 2, 3, 4, 5, 1, 3, 4, 5, 3, 3, 4, 3, 4, 5, 1, 3, 1, 1, 2, 3, 4, 5, 2, 3, 4, 5, 2, 3, 5, 2, 4, 1, 2, 3, 4, 5, 1, 2, 3, 4, 5, 1, 1, 3, 5, 1, 3, 4, 5, 1, 1, 2, 3, 4, 5, 2, 2, 4, 5, 3, 4, 5, 2, 4, 4, 5, 1, 2, 3, 4, 5, 1, 3, 4, 5, 2, 5, 3, 5, 1, 3, 3, 2, 3, 4, 5, 4, 2, 4, 5, 2, 3, 4, 5, 1, 2, 3, 4, 5, 1, 2, 3, 4, 5, 2, 4, 1, 2, 3, 5, 2, 3, 5, 5, 1, 1, 2, 3, 4, 5, 1, 3, 1, 2, 4, 5, 1, 2, 3, 4, 5, 1, 2, 3, 4, 5, 1, 3, 4, 2, 3, 5, 1, 1, 3, 4, 1, 2, 3, 4, 5, 1, 2, 3, 4, 5, 3, 3, 1, 1, 3, 4, 2, 5, 1, 2, 3, 4, 5], \"Freq\": [0.0035342648409990803, 0.5124684019448666, 0.37109780830490346, 0.021205589045994483, 0.09542515070697517, 0.7845957610445339, 0.2039948978715788, 0.7166073431137231, 0.19263638255745244, 0.09246546362757717, 0.008701855812032748, 0.5830243394061941, 0.2175463953008187, 0.052211134872196495, 0.14793154880455672, 0.017484361995350993, 0.17484361995350992, 0.3933981448953973, 0.04371090498837748, 0.36717160190237086, 0.9291947100637639, 0.9794431946877913, 0.015641179798046047, 0.21897651717264466, 0.08602648888925325, 0.17987356767752952, 0.5083383434364965, 0.0773301850418822, 0.8506320354607041, 0.2815635142810841, 0.3120028131222824, 0.3348322872531811, 0.06848842239269613, 0.9292953575899529, 0.15413367860908475, 0.2312005179136271, 0.6011213465754305, 0.010035385077029788, 0.37130924785010216, 0.20070770154059578, 0.3412030926190128, 0.07024769553920852, 0.9527734771383534, 0.03528790656067975, 0.9730777290328766, 0.08359070234674026, 0.8359070234674026, 0.03804072771664042, 0.15216291086656167, 0.5668068429779423, 0.16357512918155379, 0.08368960097660892, 0.9700272268753705, 0.3979431088764666, 0.5536599775672579, 0.03460374859795362, 0.8967305439608114, 0.060055972554390664, 0.630587711821102, 0.180167917663172, 0.060055972554390664, 0.060055972554390664, 0.208720123781765, 0.05218003094544125, 0.13914674918784334, 0.6087670276968146, 0.9329649517552197, 0.08985457536997163, 0.8086911783297447, 0.1352552916550661, 0.03381382291376653, 0.8115317499303967, 0.10859057916849107, 0.6264841105874485, 0.10859057916849107, 0.15870930801548694, 0.6618248394745202, 0.29055724659856985, 0.024213103883214154, 0.0322841385109522, 0.9715235662110071, 0.9555709325556475, 0.8800958080146271, 0.05500598800091419, 0.9870672228767962, 0.9454452881525887, 0.027807214357429076, 0.9530041846640811, 0.030254101100447017, 0.8560834531293238, 0.1275017908916014, 0.8403097983337436, 0.10892904793215195, 0.031122585123471987, 0.13292865408738858, 0.034677040196710064, 0.340990895267649, 0.24851878807642214, 0.24851878807642214, 0.9662989235876298, 0.025428919041779734, 0.9618179614138377, 0.06389411257512713, 0.9264646323393433, 0.9735003530276856, 0.10987764301333929, 0.5398336374133625, 0.12898679832000698, 0.1480959536266747, 0.07165933240000388, 0.04333522694388203, 0.04333522694388203, 0.8667045388776405, 0.600641099806088, 0.09193486221521754, 0.300320549903044, 0.0061289908143478365, 0.9558216473080509, 0.9715751806410006, 0.1214947257914039, 0.2733631330306588, 0.6074736289570195, 0.9791233846928167, 0.1626541919362264, 0.813270959681132, 0.09789597887384877, 0.04894798943692438, 0.8321158204277145, 0.18463072559118374, 0.7754490474829717, 0.9770008441533772, 0.11167288106653565, 0.8561587548434401, 0.9557279880019949, 0.02896145418187863, 0.969953087079797, 0.0642480373157357, 0.08719376492849844, 0.793922175401591, 0.0550697462706306, 0.09401443040415423, 0.04700721520207712, 0.07051082280311567, 0.7756190508342724, 0.10467924917312704, 0.034893083057709016, 0.06978616611541803, 0.7676478272695983, 0.15436913612108952, 0.1234953088968716, 0.07203893018984177, 0.6586416474499819, 0.88533603858951, 0.918256173018715, 0.04832927226414289, 0.024164636132071444, 0.8986963379224968, 0.9636119521118187, 0.9666732823702411, 0.05024372377820745, 0.78715167252525, 0.13398326340855318, 0.033495815852138296, 0.969975491541941, 0.04186728931579999, 0.9629476542633998, 0.9673429775983492, 0.16532857995940292, 0.8266428997970147, 0.18181855497153, 0.024793439314299545, 0.09917375725719818, 0.6942163008003872, 0.09771760160699501, 0.09771760160699501, 0.048858800803497505, 0.7817408128559601, 0.9672861933612691, 0.9250739647050293, 0.034261998692778864, 0.5857893206934461, 0.05374213951316019, 0.29558176732238106, 0.048367925561844174, 0.016122641853948058, 0.05402551399607107, 0.756357195944995, 0.18908929898624874, 0.060264737062578545, 0.060264737062578545, 0.8437063188760997, 0.026667849927939802, 0.946708672441863, 0.026667849927939802, 0.5485882895866894, 0.20211147511088554, 0.15158360633316417, 0.09383747058719687, 0.9327568512900278, 0.07462054810320223, 0.9515599835902231, 0.9889064839202645, 0.9284735647923419, 0.9268108550604955, 0.9493243837830885, 0.0776261323245727, 0.6382593102242645, 0.025875377441524235, 0.04312562906920706, 0.2156281453460353, 0.9535309292383163, 0.01869668488702581, 0.15686397205650487, 0.26546210655716207, 0.012066459388961913, 0.5671235912812099, 0.24564225481853652, 0.7274789854241274, 0.009447779031482174, 0.01889555806296435, 0.9720099865486687, 0.12666161907677345, 0.06333080953838673, 0.8233005239990274, 0.9615488186255141, 0.02598780590879768, 0.9662542120396845, 0.11983838598986164, 0.8388687019290315, 0.03809630653227348, 0.057144459798410215, 0.1904815326613674, 0.6285890577825124, 0.07619261306454696, 0.28444188141963506, 0.09922391212312852, 0.3968956484925141, 0.0959164483856909, 0.12237615828519184, 0.9318655713989213, 0.9496159032346979, 0.048285554401764304, 0.9715701540193223, 0.05436002124235921, 0.9241203611201066, 0.2613855971653897, 0.05881175936221268, 0.24831631730712023, 0.431286235322893, 0.3345434421872317, 0.18734432762484976, 0.4683608190621244, 0.1135320812882649, 0.8514906096619869, 0.010050193841931454, 0.8090406042754821, 0.055276066130623004, 0.12562742302414318, 0.8735860752508352, 0.104189164938173, 0.016029102298180463, 0.7969226538374558, 0.016836394095157515, 0.14030328412631263, 0.016836394095157515, 0.028060656825262528, 0.8135634681914456, 0.1284573897144388, 0.05709217320641724, 0.9088601157871676, 0.05863613650239791, 0.9862450326969334, 0.03108561420395237, 0.07253309980922219, 0.8703971977106664, 0.020723742802634913, 0.011825717828918648, 0.3429458170386408, 0.08278002480243055, 0.5439830201302579, 0.023651435657837297, 0.964087035082245, 0.02472018038672423, 0.9676132581134468, 0.061386809094463556, 0.1534670227361589, 0.7673351136807944, 0.9827495596585372, 0.10410989890991265, 0.8707373363374513, 0.01892907252907503, 0.07469762607628513, 0.07469762607628513, 0.8216738868391364, 0.853475675389302, 0.121925096484186, 0.020320849414031, 0.019703520713962232, 0.9654725149841494, 0.3284858119223443, 0.2219498729205029, 0.07102395933456092, 0.38175378142326494, 0.0641511425950398, 0.0106918570991733, 0.0213837141983466, 0.8981159963305572, 0.9648742846864276, 0.05709029885305446, 0.9134447816488713, 0.9735530159748332, 0.23252448451473667, 0.7626803092083363, 0.9457284144805723, 0.9211384381396424, 0.06140922920930949, 0.9807122292794969, 0.9457931726056652, 0.07646695338815278, 0.10923850484021826, 0.8083649358176151, 0.010923850484021827, 0.9682068903592452, 0.02020138632967531, 0.22221524962642838, 0.26766836886819784, 0.34342356760448023, 0.1515103974725648, 0.47971172511751436, 0.08158362672066571, 0.2186441196113841, 0.140323837959545, 0.08158362672066571, 0.6901508838471434, 0.31124451624479016, 0.2050494003325715, 0.36615964345102053, 0.08787831442824492, 0.34052846840944906, 0.9331133050440935, 0.06220755366960624, 0.9646827249142215, 0.03111879757787811, 0.9715195133875306, 0.9785864560033001, 0.9673118811500621, 0.9288830198121023, 0.27694430323886376, 0.05934520783689938, 0.6725790221515263, 0.9673105146627556, 0.21104699622650955, 0.2936306034455785, 0.2569267780148812, 0.16057923625930073, 0.07799562904023179, 0.3128331251506028, 0.08938089290017222, 0.5213885419176713, 0.04469044645008611, 0.033517834837564583, 0.37587265937241715, 0.06834048352225766, 0.47411210443566254, 0.06834048352225766, 0.017085120880564415, 0.8433965499384952, 0.04362395947957734, 0.014541319826525779, 0.08724791895915468, 0.012508935716405496, 0.2626876500445154, 0.08756255001483847, 0.6254467858202748, 0.05542121150961868, 0.08313181726442802, 0.02771060575480934, 0.8313181726442802, 0.9175761566094918, 0.07646467971745764, 0.8769022751296134, 0.06189898412679624, 0.03094949206339812, 0.02063299470893208, 0.1201502766229345, 0.030037569155733624, 0.06007513831146725, 0.7809767980490742, 0.08524671344989532, 0.08524671344989532, 0.028415571149965107, 0.7956359921990229, 0.12532559426600234, 0.025065118853200466, 0.7268884467428135, 0.12532559426600234, 0.9124281865520294, 0.9006358792457597, 0.07205087033966077, 0.07479259362041495, 0.7396156480241033, 0.1329646108807377, 0.01662057636009221, 0.03324115272018442, 0.12251457564025973, 0.01166805482288188, 0.8342659198360544, 0.02333610964576376, 0.00583402741144094, 0.01592590872504647, 0.27074044832579, 0.07962954362523235, 0.6370363490018588, 0.9641528085474502, 0.007573354711440022, 0.8406423729698425, 0.05301348298008016, 0.09845361124872029, 0.984075155057174, 0.7843593328405666, 0.1546624036587033, 0.011047314547050234, 0.044189258188200936, 0.5901377408928049, 0.010444915768014245, 0.28723518362039174, 0.06266949460808548, 0.047002120956064104, 0.14632255639855926, 0.3365418797166863, 0.49749669175510147, 0.014632255639855925, 0.9268720268939414, 0.9738167686217326, 0.01947633537243465, 0.03618913688755973, 0.054283705331339596, 0.9047284221889933, 0.01633791399771121, 0.9475990118672502, 0.01633791399771121, 0.4962933838068827, 0.44114967449500686, 0.049016630499445206, 0.01838123643729195, 0.6231736846882029, 0.008199653745897406, 0.20499134364743515, 0.10659549869666628, 0.05739757622128184, 0.08435262992491938, 0.40971277392103694, 0.03615112711067973, 0.4217631496245969, 0.04820150281423964, 0.5076450818101635, 0.04333555576428226, 0.2662041282663053, 0.14857904833468202, 0.037144762083670506, 0.9636134092945489, 0.6729679467566951, 0.00841209933445869, 0.20189038402700854, 0.050472596006752135, 0.06729679467566951, 0.8043651304768967, 0.17874780677264374, 0.005958260225754791, 0.011916520451509581, 0.015573759444403215, 0.4672127833320964, 0.18688511333283858, 0.03893439861100804, 0.28811454972145945, 0.685318757995546, 0.12320337222391838, 0.10780295069592859, 0.04620126458396939, 0.03850105381997449, 0.9216641317145456, 0.02333326915733027, 0.04666653831466054, 0.011666634578665135, 0.9463350098252629, 0.037853400393010515, 0.8933280768254326, 0.05955520512169551, 0.029777602560847754, 0.03160030580141706, 0.9164088682410947, 0.03160030580141706, 0.4310720089721977, 0.021200262736337593, 0.4593390259539812, 0.08126767382262744, 0.003533377122722932, 0.8573270627683464, 0.14288784379472438, 0.8915990672468904, 0.04953328151371614, 0.9711094662229774, 0.9612811699009857, 0.9475691736022056, 0.044072984818707236, 0.045039013711408386, 0.9007802742281678, 0.045039013711408386, 0.8314944485995299, 0.059392460614252136, 0.0989874343570869, 0.030186579178318, 0.08049754447551467, 0.845224216992904, 0.030186579178318, 0.04992157113354104, 0.07131653019077291, 0.5134790173735649, 0.37084595699201917, 0.04126032190406047, 0.12378096571218142, 0.7839461161771489, 0.17054687754266515, 0.1550426159478774, 0.4651278478436322, 0.19638731353397804, 0.01033617439652516, 0.5271464234042359, 0.4298270836988385, 0.03243977990179913, 0.00775235583322259, 0.6124361108245846, 0.16279947249767437, 0.03100942333289036, 0.18605653999734215, 0.9206371529561379, 0.07464625564509227, 0.9552194880623716, 0.031245494269590966, 0.906119333818138, 0.015622747134795483, 0.031245494269590966, 0.9855694515768116, 0.9229998960905681, 0.07178888080704418, 0.13493197518737673, 0.8545691761867193, 0.11454560135227113, 0.1298183481992406, 0.7330918486545351, 0.010181831231312988, 0.012727289039141236, 0.7597472692528925, 0.23701517374128697, 0.20119842754167966, 0.7880271745382453, 0.04914357541948215, 0.8845843575506788, 0.023176665839269972, 0.4264506514425675, 0.4264506514425675, 0.11124799602849587, 0.013905999503561984, 0.14878301423524404, 0.8307051628134459, 0.01239858451960367, 0.01239858451960367, 0.019136457946611934, 0.21050103741273127, 0.13395520562628355, 0.6315031122381938, 0.4904856221165323, 0.007847769953864516, 0.42770346248561614, 0.051010504700119357, 0.02354330986159355, 0.966305750460677, 0.953862552612723, 0.1449119068771926, 0.8332434645438574, 0.018113988359649075, 0.0770040897421421, 0.33689289262187166, 0.1251316458309809, 0.10588062339544539, 0.3561439150574072, 0.0740273665538514, 0.9130041874975007, 0.1759167541658155, 0.8041908761865852, 0.24094777704679965, 0.14682755163789354, 0.44424746393003683, 0.12423869753975607, 0.04141289917991869, 0.8980564858907932, 0.01870951012272486, 0.01870951012272486, 0.03741902024544972, 0.989218241858758, 0.5679563921803651, 0.08414168773042446, 0.16828337546084893, 0.0736239767641214, 0.10517710966303058, 0.023526110547063016, 0.8469399796942686, 0.05881527636765754, 0.05881527636765754, 0.9910664355618173, 0.9124146689882832, 0.9302865219297191, 0.021142875498402706, 0.021142875498402706, 0.05928956814782648, 0.8419118676991361, 0.04743165451826119, 0.04743165451826119, 0.14621412750335688, 0.026584386818792157, 0.5848565100134275, 0.23925948136912942, 0.964165366539016, 0.9730728856465541, 0.013463961318313795, 0.06731980659156898, 0.690028017563582, 0.18849545845639315, 0.03702589362536294, 0.08277757348661757, 0.8277757348661757, 0.2726587406021191, 0.23857639802685418, 0.34082342575264885, 0.15337054158869198, 0.8136632596027101, 0.8878548264764079, 0.05222675449861223, 0.047151704740253174, 0.7544272758440508, 0.011787926185063293, 0.10609133566556965, 0.08251548329544306, 0.015912370641915686, 0.7956185320957843, 0.06364948256766274, 0.1272989651353255, 0.8652659625199469, 0.538377706211054, 0.21708778476252177, 0.09117686960025914, 0.15196144933376524, 0.01046029688201745, 0.8891252349714832, 0.01046029688201745, 0.0836823750561396, 0.8994169772377766, 0.0088545916734485, 0.5932576421210496, 0.0796913250610365, 0.159382650122073, 0.159382650122073, 0.8639057222027772, 0.08860571509772074, 0.04430285754886037, 0.3286764493976233, 0.41333553484852625, 0.14939838608982878, 0.10955881646587443, 0.05179902752991303, 0.8805834680085215, 0.9459929587657168, 0.046145997988571545, 0.11248769967926646, 0.871779672514315, 0.9819128675755996, 0.054863545525533, 0.7406578645946955, 0.109727091051066, 0.054863545525533, 0.04114765914414975, 0.9902533534287858, 0.06011994579777579, 0.9017991869666369, 0.10877520505709372, 0.8702016404567497, 0.10742220559687041, 0.8593776447749633, 0.05487497704741416, 0.9054371212823336, 0.02743748852370708, 0.9793676529466822, 0.9867890167564677, 0.9641848068416468, 0.03883918704235083, 0.7088151635229025, 0.058258780563526236, 0.1553567481694033, 0.04854898380293853, 0.15488227336468052, 0.13939404602821248, 0.06195290934587221, 0.6350173207951901, 0.948327655704175, 0.03469491423307958, 0.05179804583127162, 0.8805667791316176, 0.4963165287193554, 0.018728925612051146, 0.2809338841807672, 0.10300909086628131, 0.09832685946326852, 0.9618152865536389, 0.821837721714045, 0.164367544342809, 0.009668679078988765, 0.3732017241962021, 0.017416080462489433, 0.5859267069880374, 0.0037320172419620214, 0.01990409195713078, 0.86597921378683, 0.05093995375216647, 0.008489992292027746, 0.0764099306282497, 0.9235707754728876, 0.0263877364420825, 0.052775472884165, 0.05483220545047672, 0.9321474926581043, 0.174740995232995, 0.04077289888769883, 0.48927478665238594, 0.27376089253169217, 0.017474099523299497, 0.01117841437648633, 0.10060572938837697, 0.25710353065918556, 0.5477423044478301, 0.08942731501189063, 0.058409771939481665, 0.3337701253684666, 0.1418523032815983, 0.45893392238164166, 0.1349764994093535, 0.269952998818707, 0.07362354513237462, 0.5153648159266224, 0.9027195155427016, 0.009824191652680577, 0.42735233689160507, 0.2161322163589727, 0.08841772487412519, 0.2603410787960353, 0.4176189080704316, 0.11778994843012174, 0.06424906278006641, 0.3962025538104095, 0.0162536223982523, 0.0487608671947569, 0.07314130079213535, 0.04063405599563075, 0.8208079311117411, 0.8852935947349834, 0.026827078628332827, 0.10730831451333131, 0.9433915034313546, 0.04965218439112393, 0.9728935132112093, 0.3453571352024594, 0.47309196603076636, 0.10881115218707627, 0.0520401162633843, 0.01419275898092299, 0.7838269279627939, 0.16217108854402632, 0.04054277213600658, 0.01351425737866886, 0.983490625387975, 0.9642240689991608, 0.024410735924029387, 0.9661384095953522, 0.023564351453545178, 0.023564351453545178, 0.07688368242452442, 0.909790242023539, 0.9636114995952523, 0.008238496669676668, 0.3480764842938392, 0.30688400094545587, 0.01441736917193417, 0.32130137011739, 0.12191863489722704, 0.2926047237533449, 0.048767453958890816, 0.5333940276753683, 0.05189542921487096, 0.19028324045452685, 0.7611329618181074, 0.049138422795218545, 0.8844916103139339, 0.11160285355390587, 0.013950356694238233, 0.055801426776952934, 0.7672696181831029, 0.055801426776952934, 0.014498135375445446, 0.11598508300356357, 0.10148694762811812, 0.7684011748986087, 0.014498135375445446, 0.9636307676968371, 0.8797293083496192, 0.091638469619752, 0.018327693923950398, 0.7736358830341789, 0.07627396029914439, 0.021792560085469828, 0.14165164055555388, 0.9636158843839902, 0.021028632682852225, 0.7780594092655323, 0.0841145307314089, 0.05607635382093926, 0.06308589804855667, 0.989866842210016, 0.393496562341329, 0.10416085473741063, 0.503444131230818, 0.08996149283694392, 0.779666271253514, 0.14993582139490652, 0.43673029167626476, 0.5415455616785683, 0.9612679553793531, 0.919305415088682, 0.8081720621791846, 0.014303930304056365, 0.10012751212839455, 0.05006375606419727, 0.02860786060811273, 0.06729378039059669, 0.11215630065099448, 0.15701882091139227, 0.6729378039059669, 0.12991877088346232, 0.822818882261928, 0.1116476231753765, 0.8559651110112199, 0.9583503221324904, 0.034226797219017516, 0.9757545118362271, 0.026924671016248552, 0.10769868406499421, 0.8077401304874565, 0.053849342032497104, 0.980351394347812, 0.04702882025247415, 0.8935475847970089, 0.04702882025247415, 0.1104698525959699, 0.42179398263915785, 0.03682328419865664, 0.42848912522073174, 0.024527681120644063, 0.08175893706881354, 0.34338753568901687, 0.5477848783610507, 0.7725953846320702, 0.24857101529640113, 0.3748293087802874, 0.07891143342742893, 0.07102029008468604, 0.22489758526817247, 0.8829547835330712, 0.08026861668482466, 0.8251168239257771, 0.023574766397879348, 0.14144859838727608, 0.011787383198939674, 0.0961944317851603, 0.04809721589258015, 0.8657498860664427, 0.9423156841257152, 0.9666739327377712, 0.033754372259765374, 0.1620209868468738, 0.7628488130706975, 0.033754372259765374, 0.01350174890390615, 0.9232652116403783, 0.06839001567706506, 0.5776901524888856, 0.30113635608463185, 0.030728199600472638, 0.09218459880141791, 0.5202757033546538, 0.09459558242811886, 0.23648895607029716, 0.10551045732367104, 0.04729779121405943, 0.11521171784618993, 0.052368962657359054, 0.7384023734687627, 0.06284275518883087, 0.031421377594415434, 0.7261851345512743, 0.24690294574743327, 0.02178555403653823, 0.08307089190468453, 0.8860895136499684, 0.02769029730156151, 0.9706054409706463, 0.9009669057319357, 0.07207735245855486, 0.018019338114638715, 0.28407116208488586, 0.2257003753551148, 0.16732958862534372, 0.21791760379114533, 0.10506741611358793, 0.1093365688542644, 0.1796243631177201, 0.5388730893531603, 0.14838534344507312, 0.02342926475448523, 0.9744586381020759, 0.9757574902516136, 0.951128158715557, 0.01586615794777363, 0.9202371609708705, 0.06346463179109452, 0.9206462217865291, 0.061376414785768614, 0.06735380081113376, 0.20879678251451467, 0.6533318678679975, 0.060618420730020384, 0.013470760162226751], \"Term\": [\"000\", \"000\", \"000\", \"000\", \"000\", \"1959\", \"1959\", \"1960\", \"1960\", \"1960\", \"1961\", \"1961\", \"1961\", \"1961\", \"1961\", \"30\", \"30\", \"30\", \"30\", \"30\", \"62\", \"academic\", \"act\", \"act\", \"act\", \"act\", \"act\", \"adjustments\", \"adjustments\", \"administration\", \"administration\", \"administration\", \"administration\", \"adopting\", \"agreement\", \"agreement\", \"agreement\", \"aid\", \"aid\", \"aid\", \"aid\", \"aid\", \"aircraft\", \"aircraft\", \"alexander\", \"allocation\", \"allocation\", \"american\", \"american\", \"american\", \"american\", \"american\", \"anne\", \"anti\", \"anti\", \"anti\", \"appearances\", \"areas\", \"areas\", \"areas\", \"areas\", \"areas\", \"art\", \"art\", \"art\", \"art\", \"assessment\", \"assigned\", \"assigned\", \"authorized\", \"authorized\", \"authorized\", \"available\", \"available\", \"available\", \"available\", \"away\", \"away\", \"away\", \"away\", \"baby\", \"bankers\", \"banks\", \"banks\", \"baseball\", \"bed\", \"bed\", \"berlin\", \"berlin\", \"billion\", \"billion\", \"black\", \"black\", \"black\", \"board\", \"board\", \"board\", \"board\", \"board\", \"boats\", \"boats\", \"bombs\", \"bonds\", \"bonds\", \"bride\", \"business\", \"business\", \"business\", \"business\", \"business\", \"calendar\", \"calendar\", \"calendar\", \"came\", \"came\", \"came\", \"came\", \"campus\", \"captain\", \"cars\", \"cars\", \"cars\", \"castro\", \"catholic\", \"catholic\", \"cattle\", \"cattle\", \"cattle\", \"chamber\", \"chamber\", \"charter\", \"chemical\", \"chemical\", \"china\", \"china\", \"chinese\", \"city\", \"city\", \"city\", \"city\", \"claim\", \"claim\", \"claim\", \"claim\", \"claims\", \"claims\", \"claims\", \"claims\", \"class\", \"class\", \"class\", \"class\", \"classical\", \"clay\", \"clay\", \"clay\", \"clerical\", \"cloth\", \"clothes\", \"co\", \"co\", \"co\", \"co\", \"coach\", \"coal\", \"coal\", \"coat\", \"collective\", \"collective\", \"college\", \"college\", \"college\", \"college\", \"colleges\", \"colleges\", \"colleges\", \"colleges\", \"colored\", \"colors\", \"colors\", \"come\", \"come\", \"come\", \"come\", \"come\", \"committee\", \"committee\", \"committee\", \"commodities\", \"commodities\", \"commodities\", \"communist\", \"communist\", \"communist\", \"company\", \"company\", \"company\", \"company\", \"compared\", \"compared\", \"components\", \"congo\", \"connections\", \"conservation\", \"coordination\", \"cost\", \"cost\", \"cost\", \"cost\", \"cost\", \"couldn\", \"couldn\", \"countries\", \"countries\", \"countries\", \"countries\", \"county\", \"county\", \"county\", \"county\", \"cousin\", \"creative\", \"creative\", \"creative\", \"cuba\", \"cuba\", \"cuban\", \"curriculum\", \"curriculum\", \"daily\", \"daily\", \"daily\", \"daily\", \"daily\", \"day\", \"day\", \"day\", \"day\", \"day\", \"definition\", \"democratic\", \"democratic\", \"democrats\", \"denied\", \"denied\", \"department\", \"department\", \"department\", \"department\", \"design\", \"design\", \"design\", \"designer\", \"designer\", \"development\", \"development\", \"development\", \"development\", \"didn\", \"didn\", \"didn\", \"don\", \"don\", \"don\", \"don\", \"don\", \"door\", \"door\", \"door\", \"drill\", \"drill\", \"dry\", \"east\", \"east\", \"east\", \"east\", \"education\", \"education\", \"education\", \"education\", \"education\", \"eisenhower\", \"eisenhower\", \"electronic\", \"engineer\", \"engineer\", \"engineer\", \"entrance\", \"equipment\", \"equipment\", \"equipment\", \"exercise\", \"exercise\", \"exercise\", \"eyes\", \"eyes\", \"eyes\", \"faculty\", \"faculty\", \"federal\", \"federal\", \"federal\", \"federal\", \"feed\", \"feed\", \"feed\", \"feed\", \"fig\", \"filing\", \"filing\", \"fingers\", \"fiscal\", \"fiscal\", \"flowers\", \"forests\", \"forests\", \"frames\", \"fulfill\", \"game\", \"game\", \"game\", \"game\", \"gen\", \"general\", \"general\", \"general\", \"general\", \"general\", \"good\", \"good\", \"good\", \"good\", \"good\", \"got\", \"got\", \"government\", \"government\", \"government\", \"government\", \"guests\", \"guests\", \"hadn\", \"hadn\", \"hair\", \"ham\", \"handsome\", \"hated\", \"hearing\", \"hearing\", \"hearing\", \"hell\", \"high\", \"high\", \"high\", \"high\", \"high\", \"home\", \"home\", \"home\", \"home\", \"home\", \"house\", \"house\", \"house\", \"house\", \"house\", \"inch\", \"inch\", \"inch\", \"inch\", \"income\", \"income\", \"income\", \"income\", \"india\", \"india\", \"india\", \"india\", \"industrial\", \"industrial\", \"industry\", \"industry\", \"industry\", \"industry\", \"insurance\", \"insurance\", \"insurance\", \"insurance\", \"interference\", \"interference\", \"interference\", \"interference\", \"interior\", \"interior\", \"interior\", \"interior\", \"inventories\", \"investment\", \"investment\", \"island\", \"island\", \"island\", \"island\", \"island\", \"john\", \"john\", \"john\", \"john\", \"john\", \"junior\", \"junior\", \"junior\", \"junior\", \"katanga\", \"kennedy\", \"kennedy\", \"kennedy\", \"kennedy\", \"khrushchev\", \"knew\", \"knew\", \"knew\", \"knew\", \"know\", \"know\", \"know\", \"know\", \"know\", \"labor\", \"labor\", \"labor\", \"labor\", \"laboratory\", \"laos\", \"laos\", \"leaders\", \"leaders\", \"leaders\", \"league\", \"league\", \"league\", \"left\", \"left\", \"left\", \"left\", \"let\", \"let\", \"let\", \"let\", \"let\", \"level\", \"level\", \"level\", \"level\", \"level\", \"life\", \"life\", \"life\", \"life\", \"life\", \"liked\", \"little\", \"little\", \"little\", \"little\", \"little\", \"ll\", \"ll\", \"ll\", \"ll\", \"local\", \"local\", \"local\", \"local\", \"local\", \"look\", \"look\", \"look\", \"look\", \"look\", \"looked\", \"looked\", \"looked\", \"looked\", \"machine\", \"machine\", \"machinery\", \"machinery\", \"machinery\", \"machines\", \"machines\", \"machines\", \"man\", \"man\", \"man\", \"man\", \"man\", \"manufacturers\", \"manufacturers\", \"manufacturing\", \"manufacturing\", \"marketing\", \"mathematics\", \"mayor\", \"mayor\", \"meat\", \"meat\", \"meat\", \"medical\", \"medical\", \"medical\", \"meeting\", \"meeting\", \"meeting\", \"meeting\", \"members\", \"members\", \"members\", \"members\", \"membership\", \"membership\", \"membership\", \"men\", \"men\", \"men\", \"men\", \"men\", \"military\", \"military\", \"military\", \"million\", \"million\", \"million\", \"million\", \"million\", \"missile\", \"missile\", \"missiles\", \"monday\", \"monday\", \"monday\", \"monday\", \"moscow\", \"mother\", \"mother\", \"motors\", \"motors\", \"mr\", \"mr\", \"mr\", \"mr\", \"mr\", \"mrs\", \"mrs\", \"music\", \"music\", \"musical\", \"musical\", \"national\", \"national\", \"national\", \"national\", \"national\", \"nations\", \"nations\", \"nations\", \"nations\", \"officer\", \"officer\", \"officer\", \"officer\", \"old\", \"old\", \"old\", \"old\", \"old\", \"opposition\", \"pale\", \"party\", \"party\", \"party\", \"pay\", \"pay\", \"pay\", \"pay\", \"pay\", \"payment\", \"payment\", \"payments\", \"payments\", \"people\", \"people\", \"people\", \"people\", \"people\", \"pieces\", \"pieces\", \"pieces\", \"pieces\", \"pink\", \"place\", \"place\", \"place\", \"place\", \"place\", \"planning\", \"planning\", \"planning\", \"planning\", \"player\", \"polaris\", \"police\", \"police\", \"police\", \"political\", \"political\", \"political\", \"political\", \"pool\", \"pool\", \"pool\", \"pool\", \"pope\", \"premier\", \"president\", \"president\", \"president\", \"president\", \"president\", \"prestige\", \"prestige\", \"problem\", \"problem\", \"problem\", \"problem\", \"proceedings\", \"procurement\", \"procurement\", \"production\", \"production\", \"production\", \"production\", \"production\", \"products\", \"products\", \"products\", \"products\", \"professors\", \"program\", \"program\", \"program\", \"program\", \"property\", \"property\", \"property\", \"property\", \"prosperity\", \"provide\", \"provide\", \"provide\", \"provide\", \"provide\", \"providence\", \"providence\", \"providence\", \"public\", \"public\", \"public\", \"public\", \"puerto\", \"puerto\", \"race\", \"race\", \"radiation\", \"radiation\", \"railroad\", \"range\", \"range\", \"range\", \"range\", \"range\", \"rayburn\", \"recognition\", \"recognition\", \"recommendation\", \"recommendation\", \"recorded\", \"recorded\", \"recreation\", \"recreation\", \"recreation\", \"rehabilitation\", \"republican\", \"republicans\", \"research\", \"research\", \"research\", \"research\", \"research\", \"return\", \"return\", \"return\", \"return\", \"rhode\", \"rhode\", \"rico\", \"rico\", \"right\", \"right\", \"right\", \"right\", \"right\", \"robinson\", \"room\", \"room\", \"room\", \"said\", \"said\", \"said\", \"said\", \"said\", \"sales\", \"sales\", \"sales\", \"sales\", \"sat\", \"sat\", \"sat\", \"savings\", \"savings\", \"school\", \"school\", \"school\", \"school\", \"school\", \"schools\", \"schools\", \"schools\", \"schools\", \"schools\", \"secretary\", \"secretary\", \"secretary\", \"secretary\", \"section\", \"section\", \"section\", \"section\", \"sectors\", \"service\", \"service\", \"service\", \"service\", \"service\", \"services\", \"services\", \"services\", \"services\", \"shall\", \"shall\", \"shall\", \"shall\", \"shall\", \"shares\", \"shares\", \"shares\", \"shelter\", \"shelter\", \"shipments\", \"small\", \"small\", \"small\", \"small\", \"small\", \"son\", \"son\", \"son\", \"son\", \"southern\", \"soviet\", \"soviet\", \"speaker\", \"speaker\", \"speaker\", \"st\", \"st\", \"stared\", \"state\", \"state\", \"state\", \"state\", \"state\", \"states\", \"states\", \"states\", \"states\", \"stations\", \"stations\", \"stations\", \"stockholders\", \"stockholders\", \"student\", \"student\", \"student\", \"student\", \"student\", \"students\", \"students\", \"students\", \"students\", \"students\", \"studio\", \"sun\", \"sun\", \"sun\", \"sure\", \"sure\", \"sure\", \"sure\", \"sweet\", \"system\", \"system\", \"system\", \"system\", \"system\", \"systems\", \"tax\", \"tax\", \"tax\", \"teachers\", \"teachers\", \"teachers\", \"technical\", \"technical\", \"tends\", \"thereof\", \"thought\", \"thought\", \"thought\", \"thought\", \"thought\", \"title\", \"title\", \"title\", \"title\", \"tractor\", \"tractor\", \"treasury\", \"treasury\", \"trees\", \"trees\", \"troops\", \"trust\", \"trust\", \"trust\", \"trust\", \"trustees\", \"unions\", \"unions\", \"unions\", \"united\", \"united\", \"united\", \"united\", \"university\", \"university\", \"university\", \"university\", \"upstairs\", \"use\", \"use\", \"use\", \"use\", \"use\", \"utility\", \"utility\", \"ve\", \"ve\", \"ve\", \"ve\", \"vehicles\", \"vehicles\", \"vehicles\", \"vocational\", \"walls\", \"war\", \"war\", \"war\", \"war\", \"war\", \"wasn\", \"wasn\", \"water\", \"water\", \"water\", \"water\", \"way\", \"way\", \"way\", \"way\", \"way\", \"week\", \"week\", \"week\", \"week\", \"week\", \"went\", \"went\", \"went\", \"west\", \"west\", \"west\", \"windows\", \"woman\", \"woman\", \"woman\", \"work\", \"work\", \"work\", \"work\", \"work\", \"world\", \"world\", \"world\", \"world\", \"world\", \"yankees\", \"yards\", \"yellow\", \"yesterday\", \"yesterday\", \"yesterday\", \"yield\", \"yield\", \"york\", \"york\", \"york\", \"york\", \"york\"]}, \"R\": 30, \"lambda.step\": 0.01, \"plot.opts\": {\"xlab\": \"PC1\", \"ylab\": \"PC2\"}, \"topic.order\": [1, 2, 3, 4, 5]};\n",
       "\n",
       "function LDAvis_load_lib(url, callback){\n",
       "  var s = document.createElement('script');\n",
       "  s.src = url;\n",
       "  s.async = true;\n",
       "  s.onreadystatechange = s.onload = callback;\n",
       "  s.onerror = function(){console.warn(\"failed to load library \" + url);};\n",
       "  document.getElementsByTagName(\"head\")[0].appendChild(s);\n",
       "}\n",
       "\n",
       "if(typeof(LDAvis) !== \"undefined\"){\n",
       "   // already loaded: just create the visualization\n",
       "   !function(LDAvis){\n",
       "       new LDAvis(\"#\" + \"ldavis_el7259622116257651207349487076\", ldavis_el7259622116257651207349487076_data);\n",
       "   }(LDAvis);\n",
       "}else if(typeof define === \"function\" && define.amd){\n",
       "   // require.js is available: use it to load d3/LDAvis\n",
       "   require.config({paths: {d3: \"https://d3js.org/d3.v5\"}});\n",
       "   require([\"d3\"], function(d3){\n",
       "      window.d3 = d3;\n",
       "      LDAvis_load_lib(\"https://cdn.jsdelivr.net/gh/bmabey/pyLDAvis@3.4.0/pyLDAvis/js/ldavis.v3.0.0.js\", function(){\n",
       "        new LDAvis(\"#\" + \"ldavis_el7259622116257651207349487076\", ldavis_el7259622116257651207349487076_data);\n",
       "      });\n",
       "    });\n",
       "}else{\n",
       "    // require.js not available: dynamically load d3 & LDAvis\n",
       "    LDAvis_load_lib(\"https://d3js.org/d3.v5.js\", function(){\n",
       "         LDAvis_load_lib(\"https://cdn.jsdelivr.net/gh/bmabey/pyLDAvis@3.4.0/pyLDAvis/js/ldavis.v3.0.0.js\", function(){\n",
       "                 new LDAvis(\"#\" + \"ldavis_el7259622116257651207349487076\", ldavis_el7259622116257651207349487076_data);\n",
       "            })\n",
       "         });\n",
       "}\n",
       "</script>"
      ],
      "text/plain": [
       "<IPython.core.display.HTML object>"
      ]
     },
     "execution_count": 21,
     "metadata": {},
     "output_type": "execute_result"
    }
   ],
   "source": [
    "pyLDAvis.display(lda_display)"
   ]
  },
  {
   "attachments": {},
   "cell_type": "markdown",
   "id": "a3d14c87",
   "metadata": {},
   "source": [
    "Q: What conclusions do you draw from the visualization above? Please address the principal component scatterplot and the salient terms graph.\n",
    "\n",
    "A: The interactive visualization shows the location of the top 5 topics and their relation to the intersection of PCA-1 and PCA-2. For the PCA scatterplot, it seems the larger the circle, the larger the topic distribution and the closer to center the topic is the more weight it holds when viewing the salient graph. Thus, corresponding to the salient terms graph, which displays the overall term frequency along with the estimated term frequency. \n"
   ]
  },
  {
   "cell_type": "markdown",
   "id": "d83b6ee1",
   "metadata": {},
   "source": []
  }
 ],
 "metadata": {
  "kernelspec": {
   "display_name": "Python 3 (ipykernel)",
   "language": "python",
   "name": "python3"
  },
  "language_info": {
   "codemirror_mode": {
    "name": "ipython",
    "version": 3
   },
   "file_extension": ".py",
   "mimetype": "text/x-python",
   "name": "python",
   "nbconvert_exporter": "python",
   "pygments_lexer": "ipython3",
   "version": "3.9.18"
  }
 },
 "nbformat": 4,
 "nbformat_minor": 5
}
